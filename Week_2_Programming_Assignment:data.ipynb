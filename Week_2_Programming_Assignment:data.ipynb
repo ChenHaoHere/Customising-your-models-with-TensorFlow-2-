{
  "nbformat": 4,
  "nbformat_minor": 0,
  "metadata": {
    "coursera": {
      "course_slug": "tensor-flow-2-2",
      "graded_item_id": "3hWzU",
      "launcher_item_id": "AStQh"
    },
    "kernelspec": {
      "display_name": "Python 3",
      "language": "python",
      "name": "python3"
    },
    "language_info": {
      "codemirror_mode": {
        "name": "ipython",
        "version": 3
      },
      "file_extension": ".py",
      "mimetype": "text/x-python",
      "name": "python",
      "nbconvert_exporter": "python",
      "pygments_lexer": "ipython3",
      "version": "3.7.1"
    },
    "colab": {
      "name": "Week 2 Programming Assignment.ipynb",
      "provenance": [],
      "toc_visible": true,
      "include_colab_link": true
    }
  },
  "cells": [
    {
      "cell_type": "markdown",
      "metadata": {
        "id": "view-in-github",
        "colab_type": "text"
      },
      "source": [
        "<a href=\"https://colab.research.google.com/github/ChenHaoHere/Customising-your-models-with-TensorFlow-2-/blob/master/Week_2_Programming_Assignment%3Adata.ipynb\" target=\"_parent\"><img src=\"https://colab.research.google.com/assets/colab-badge.svg\" alt=\"Open In Colab\"/></a>"
      ]
    },
    {
      "cell_type": "markdown",
      "metadata": {
        "id": "K4WzeqktBMIp",
        "colab_type": "text"
      },
      "source": [
        "# Programming Assignment"
      ]
    },
    {
      "cell_type": "markdown",
      "metadata": {
        "id": "j1jeo3cnBMIs",
        "colab_type": "text"
      },
      "source": [
        "## Data pipeline with Keras and tf.data"
      ]
    },
    {
      "cell_type": "markdown",
      "metadata": {
        "id": "XeGwMSUUBMIt",
        "colab_type": "text"
      },
      "source": [
        "### Instructions\n",
        "\n",
        "In this notebook, you will implement a data processing pipeline using tools from both Keras and the tf.data module. You will use the `ImageDataGenerator` class in the tf.keras module to feed a network with training and test images from a local directory containing a subset of the LSUN dataset, and train the model both with and without data augmentation. You will then use the `map` and `filter` functions of the `Dataset` class with the CIFAR-100 dataset to train a network to classify a processed subset of the images.\n",
        "\n",
        "Some code cells are provided you in the notebook. You should avoid editing provided code, and make sure to execute the cells in order to avoid unexpected errors. Some cells begin with the line:\n",
        "\n",
        "`#### GRADED CELL ####`\n",
        "\n",
        "Don't move or edit this first line - this is what the automatic grader looks for to recognise graded cells. These cells require you to write your own code to complete them, and are automatically graded when you submit the notebook. Don't edit the function name or signature provided in these cells, otherwise the automatic grader might not function properly. Inside these graded cells, you can use any functions or classes that are imported below, but make sure you don't use any variables that are outside the scope of the function.\n",
        "\n",
        "### How to submit\n",
        "\n",
        "Complete all the tasks you are asked for in the worksheet. When you have finished and are happy with your code, press the **Submit Assignment** button at the top of this notebook.\n",
        "\n",
        "### Let's get started!\n",
        "\n",
        "We'll start running some imports, and loading the dataset. Do not edit the existing imports in the following cell. If you would like to make further Tensorflow imports, you should add them here."
      ]
    },
    {
      "cell_type": "code",
      "metadata": {
        "id": "tliHvOePBMIv",
        "colab_type": "code",
        "colab": {}
      },
      "source": [
        "#### PACKAGE IMPORTS ####\n",
        "\n",
        "# Run this cell first to import all required packages. Do not make any imports elsewhere in the notebook\n",
        "\n",
        "import tensorflow as tf\n",
        "from tensorflow.keras.datasets import cifar100\n",
        "import numpy as np\n",
        "import matplotlib.pyplot as plt\n",
        "import json\n",
        "%matplotlib inline\n",
        "\n",
        "# If you would like to make further imports from tensorflow, add them here\n",
        "\n"
      ],
      "execution_count": 0,
      "outputs": []
    },
    {
      "cell_type": "markdown",
      "metadata": {
        "id": "hTWE3KleBMI0",
        "colab_type": "text"
      },
      "source": [
        "### Part 1: tf.keras\n",
        "  \n",
        "#### The LSUN Dataset\n",
        "\n",
        "In the first part of this assignment, you will use a subset of the [LSUN dataset](https://www.yf.io/p/lsun). This is a large-scale image dataset with 10 scene and 20 object categories. A subset of the LSUN dataset has been provided, and has already been split into training and test sets. The three classes included in the subset are `church_outdoor`, `classroom` and `conference_room`.\n",
        "\n",
        "* F. Yu, A. Seff, Y. Zhang, S. Song, T. Funkhouser and J. Xia. \"LSUN: Construction of a Large-scale Image Dataset using Deep Learning with Humans in the Loop\". arXiv:1506.03365, 10 Jun 2015 \n",
        "\n",
        "Your goal is to use the Keras preprocessing tools to construct a data ingestion and augmentation pipeline to train a neural network to classify the images into the three classes."
      ]
    },
    {
      "cell_type": "markdown",
      "metadata": {
        "id": "uyAHf3TZCXP4",
        "colab_type": "text"
      },
      "source": [
        "#### Import the data\n",
        "\n",
        "The dataset is available for download as a zip file at the following link:\n",
        "\n",
        "https://drive.google.com/open?id=1T4jFYYLHSuG5zjo1dF3btCLzgS2R2AU-\n",
        "\n",
        "You should store the unzipped folder in Drive for use in this Colab notebook."
      ]
    },
    {
      "cell_type": "code",
      "metadata": {
        "id": "wNBqpFnWDA4Y",
        "colab_type": "code",
        "outputId": "0cefb84a-8dd3-4e43-aa7f-c8237c616a04",
        "colab": {
          "base_uri": "https://localhost:8080/",
          "height": 127
        }
      },
      "source": [
        "# Run this cell to connect to your Drive folder\n",
        "\n",
        "from google.colab import drive\n",
        "drive.mount('/content/gdrive')"
      ],
      "execution_count": 0,
      "outputs": [
        {
          "output_type": "stream",
          "text": [
            "Go to this URL in a browser: https://accounts.google.com/o/oauth2/auth?client_id=947318989803-6bn6qk8qdgf4n4g3pfee6491hc0brc4i.apps.googleusercontent.com&redirect_uri=urn%3aietf%3awg%3aoauth%3a2.0%3aoob&response_type=code&scope=email%20https%3a%2f%2fwww.googleapis.com%2fauth%2fdocs.test%20https%3a%2f%2fwww.googleapis.com%2fauth%2fdrive%20https%3a%2f%2fwww.googleapis.com%2fauth%2fdrive.photos.readonly%20https%3a%2f%2fwww.googleapis.com%2fauth%2fpeopleapi.readonly\n",
            "\n",
            "Enter your authorization code:\n",
            "··········\n",
            "Mounted at /content/gdrive\n"
          ],
          "name": "stdout"
        }
      ]
    },
    {
      "cell_type": "code",
      "metadata": {
        "id": "sEM6skD8ORrP",
        "colab_type": "code",
        "outputId": "887c2c58-618f-4a75-c7a3-af0fe1f00cb9",
        "colab": {
          "base_uri": "https://localhost:8080/",
          "height": 1000
        }
      },
      "source": [
        "!unzip \"/content/gdrive/My Drive/Colab Notebooks/Data/lsun.zip\""
      ],
      "execution_count": 0,
      "outputs": [
        {
          "output_type": "stream",
          "text": [
            "Archive:  /content/gdrive/My Drive/Colab Notebooks/Data/lsun.zip\n",
            "   creating: lsun/\n",
            "  inflating: lsun/.DS_Store          \n",
            "   creating: __MACOSX/\n",
            "   creating: __MACOSX/lsun/\n",
            "  inflating: __MACOSX/lsun/._.DS_Store  \n",
            "   creating: lsun/test/\n",
            "  inflating: lsun/test/.DS_Store     \n",
            "   creating: __MACOSX/lsun/test/\n",
            "  inflating: __MACOSX/lsun/test/._.DS_Store  \n",
            "   creating: lsun/test/church_outdoor/\n",
            "  inflating: lsun/test/church_outdoor/.DS_Store  \n",
            "   creating: __MACOSX/lsun/test/church_outdoor/\n",
            "  inflating: __MACOSX/lsun/test/church_outdoor/._.DS_Store  \n",
            "  inflating: lsun/test/church_outdoor/000dba12e75ab831ab6b17890db263ca6ef1a8a0.png  \n",
            "  inflating: __MACOSX/lsun/test/church_outdoor/._000dba12e75ab831ab6b17890db263ca6ef1a8a0.png  \n",
            "  inflating: lsun/test/church_outdoor/000dcca9379591a2a165b72f9476f7fa37f36aa4.png  \n",
            "  inflating: __MACOSX/lsun/test/church_outdoor/._000dcca9379591a2a165b72f9476f7fa37f36aa4.png  \n",
            "  inflating: lsun/test/church_outdoor/000ed33f2df38825b71d6a77d1fc3d8cf1e21897.png  \n",
            "  inflating: __MACOSX/lsun/test/church_outdoor/._000ed33f2df38825b71d6a77d1fc3d8cf1e21897.png  \n",
            "  inflating: lsun/test/church_outdoor/000f1057122b96ea97557f2220dbd6f2b3326848.png  \n",
            "  inflating: __MACOSX/lsun/test/church_outdoor/._000f1057122b96ea97557f2220dbd6f2b3326848.png  \n",
            "  inflating: lsun/test/church_outdoor/000f303cc7288d03a2f89629032b31a60c02c4cc.png  \n",
            "  inflating: __MACOSX/lsun/test/church_outdoor/._000f303cc7288d03a2f89629032b31a60c02c4cc.png  \n",
            "  inflating: lsun/test/church_outdoor/000f7900b5e46e1918994ebd43811490ba1b6c95.png  \n",
            "  inflating: __MACOSX/lsun/test/church_outdoor/._000f7900b5e46e1918994ebd43811490ba1b6c95.png  \n",
            "  inflating: lsun/test/church_outdoor/000fa15d6fb81af33ce8b4789a5b60862d4f7bbd.png  \n",
            "  inflating: __MACOSX/lsun/test/church_outdoor/._000fa15d6fb81af33ce8b4789a5b60862d4f7bbd.png  \n",
            "  inflating: lsun/test/church_outdoor/000fafad63070aa284915b93a6a7db72168e381f.png  \n",
            "  inflating: __MACOSX/lsun/test/church_outdoor/._000fafad63070aa284915b93a6a7db72168e381f.png  \n",
            "  inflating: lsun/test/church_outdoor/000fb4640de8b64ce297e7722e3df3f2a056ae9b.png  \n",
            "  inflating: __MACOSX/lsun/test/church_outdoor/._000fb4640de8b64ce297e7722e3df3f2a056ae9b.png  \n",
            "  inflating: lsun/test/church_outdoor/000fe2f252947dafd8b3eaaac9f4d369dce99ed6.png  \n",
            "  inflating: __MACOSX/lsun/test/church_outdoor/._000fe2f252947dafd8b3eaaac9f4d369dce99ed6.png  \n",
            "  inflating: lsun/test/church_outdoor/001a77d8897144d8f9cf1a9d219f0d66342f00ff.png  \n",
            "  inflating: __MACOSX/lsun/test/church_outdoor/._001a77d8897144d8f9cf1a9d219f0d66342f00ff.png  \n",
            "  inflating: lsun/test/church_outdoor/001a98d589f4879be3e633c48c5134da9c144a5a.png  \n",
            "  inflating: __MACOSX/lsun/test/church_outdoor/._001a98d589f4879be3e633c48c5134da9c144a5a.png  \n",
            "  inflating: lsun/test/church_outdoor/001ae8ac163b918a56a5d322a22068c5ac1bfe9f.png  \n",
            "  inflating: __MACOSX/lsun/test/church_outdoor/._001ae8ac163b918a56a5d322a22068c5ac1bfe9f.png  \n",
            "  inflating: lsun/test/church_outdoor/001b00d5da64d443363a950fdd959892b769c801.png  \n",
            "  inflating: __MACOSX/lsun/test/church_outdoor/._001b00d5da64d443363a950fdd959892b769c801.png  \n",
            "  inflating: lsun/test/church_outdoor/00d23b0d0aae5edc115657d5ea297325e0844a03.png  \n",
            "  inflating: __MACOSX/lsun/test/church_outdoor/._00d23b0d0aae5edc115657d5ea297325e0844a03.png  \n",
            "  inflating: lsun/test/church_outdoor/00d2838cbf9d7ac215e2f25b34912b7c894c439d.png  \n",
            "  inflating: __MACOSX/lsun/test/church_outdoor/._00d2838cbf9d7ac215e2f25b34912b7c894c439d.png  \n",
            "  inflating: lsun/test/church_outdoor/00d4874b00b50aaed34fc15449679e2240396752.png  \n",
            "  inflating: __MACOSX/lsun/test/church_outdoor/._00d4874b00b50aaed34fc15449679e2240396752.png  \n",
            "  inflating: lsun/test/church_outdoor/00d528347bac95ef60aa5aff384ab631924814be.png  \n",
            "  inflating: __MACOSX/lsun/test/church_outdoor/._00d528347bac95ef60aa5aff384ab631924814be.png  \n",
            "  inflating: lsun/test/church_outdoor/00d53ca1fe998e9ba2e8e8b5c5eb88ae2613686b.png  \n",
            "  inflating: __MACOSX/lsun/test/church_outdoor/._00d53ca1fe998e9ba2e8e8b5c5eb88ae2613686b.png  \n",
            "  inflating: lsun/test/church_outdoor/00d595d3d46dd6c977cc236f0c5e06eb06ae20ee.png  \n",
            "  inflating: __MACOSX/lsun/test/church_outdoor/._00d595d3d46dd6c977cc236f0c5e06eb06ae20ee.png  \n",
            "  inflating: lsun/test/church_outdoor/00d6209a05dd1bb73af8e06db4955581a3841985.png  \n",
            "  inflating: __MACOSX/lsun/test/church_outdoor/._00d6209a05dd1bb73af8e06db4955581a3841985.png  \n",
            "  inflating: lsun/test/church_outdoor/00d74825def228643bce2aa1d515c4ca795c3a83.png  \n",
            "  inflating: __MACOSX/lsun/test/church_outdoor/._00d74825def228643bce2aa1d515c4ca795c3a83.png  \n",
            "  inflating: lsun/test/church_outdoor/00d8b3cc8ee25a7ea849e4f8228293f6e5bdcdee.png  \n",
            "  inflating: __MACOSX/lsun/test/church_outdoor/._00d8b3cc8ee25a7ea849e4f8228293f6e5bdcdee.png  \n",
            "  inflating: lsun/test/church_outdoor/00d8b678a3d500ccfbe089bef7f1566379805fda.png  \n",
            "  inflating: __MACOSX/lsun/test/church_outdoor/._00d8b678a3d500ccfbe089bef7f1566379805fda.png  \n",
            "  inflating: lsun/test/church_outdoor/00d948973548ab672bcd9458d53be9c1562987df.png  \n",
            "  inflating: __MACOSX/lsun/test/church_outdoor/._00d948973548ab672bcd9458d53be9c1562987df.png  \n",
            "  inflating: lsun/test/church_outdoor/00d94bf9a00db753788dbb4e52cd0479cd945309.png  \n",
            "  inflating: __MACOSX/lsun/test/church_outdoor/._00d94bf9a00db753788dbb4e52cd0479cd945309.png  \n",
            "  inflating: lsun/test/church_outdoor/00da21225ef48fae98cc7ba9d8e0bfb3248f72ff.png  \n",
            "  inflating: __MACOSX/lsun/test/church_outdoor/._00da21225ef48fae98cc7ba9d8e0bfb3248f72ff.png  \n",
            "  inflating: lsun/test/church_outdoor/00da65a1f74c8f319b683a941b3a23d8e63bb337.png  \n",
            "  inflating: __MACOSX/lsun/test/church_outdoor/._00da65a1f74c8f319b683a941b3a23d8e63bb337.png  \n",
            "  inflating: lsun/test/church_outdoor/00da698d3f427c6b89ffbf6a7dd2fb8f3c3b5e15.png  \n",
            "  inflating: __MACOSX/lsun/test/church_outdoor/._00da698d3f427c6b89ffbf6a7dd2fb8f3c3b5e15.png  \n",
            "  inflating: lsun/test/church_outdoor/00db0f847e9550b05f38d7dcdd219457c9b6e248.png  \n",
            "  inflating: __MACOSX/lsun/test/church_outdoor/._00db0f847e9550b05f38d7dcdd219457c9b6e248.png  \n",
            "  inflating: lsun/test/church_outdoor/00db66751209aafb4d8dca8fc66e080c6e49c515.png  \n",
            "  inflating: __MACOSX/lsun/test/church_outdoor/._00db66751209aafb4d8dca8fc66e080c6e49c515.png  \n",
            "  inflating: lsun/test/church_outdoor/00dbb96dfb986daf948842a563a6a448608212b0.png  \n",
            "  inflating: __MACOSX/lsun/test/church_outdoor/._00dbb96dfb986daf948842a563a6a448608212b0.png  \n",
            "  inflating: lsun/test/church_outdoor/00dbc3b1f5aaf0b8f6f78650f3f08c8a4e37562c.png  \n",
            "  inflating: __MACOSX/lsun/test/church_outdoor/._00dbc3b1f5aaf0b8f6f78650f3f08c8a4e37562c.png  \n",
            "  inflating: lsun/test/church_outdoor/00dbdad3d0661fc2680f5b5c388c54c0169b97a4.png  \n",
            "  inflating: __MACOSX/lsun/test/church_outdoor/._00dbdad3d0661fc2680f5b5c388c54c0169b97a4.png  \n",
            "  inflating: lsun/test/church_outdoor/00dc8693361441582d22de18b88c488aa5475ee3.png  \n",
            "  inflating: __MACOSX/lsun/test/church_outdoor/._00dc8693361441582d22de18b88c488aa5475ee3.png  \n",
            "  inflating: lsun/test/church_outdoor/00dca47f42fa050e99a943fff2740045f86ca805.png  \n",
            "  inflating: __MACOSX/lsun/test/church_outdoor/._00dca47f42fa050e99a943fff2740045f86ca805.png  \n",
            "  inflating: lsun/test/church_outdoor/00dcdd9a59b05bdb150d1463c34ada68514ec7c5.png  \n",
            "  inflating: __MACOSX/lsun/test/church_outdoor/._00dcdd9a59b05bdb150d1463c34ada68514ec7c5.png  \n",
            "  inflating: lsun/test/church_outdoor/00dce0dfd1a773f313327feae455b9e6a1eba5e0.png  \n",
            "  inflating: __MACOSX/lsun/test/church_outdoor/._00dce0dfd1a773f313327feae455b9e6a1eba5e0.png  \n",
            "  inflating: lsun/test/church_outdoor/00dd5f24bb45125f6695e561e9c58480b8950dbd.png  \n",
            "  inflating: __MACOSX/lsun/test/church_outdoor/._00dd5f24bb45125f6695e561e9c58480b8950dbd.png  \n",
            "  inflating: lsun/test/church_outdoor/00dd7e7be3149390cbc088ec556051c5b0aef4b6.png  \n",
            "  inflating: __MACOSX/lsun/test/church_outdoor/._00dd7e7be3149390cbc088ec556051c5b0aef4b6.png  \n",
            "  inflating: lsun/test/church_outdoor/00dd818f27bb88c543ffe416f5383db0ef7899dc.png  \n",
            "  inflating: __MACOSX/lsun/test/church_outdoor/._00dd818f27bb88c543ffe416f5383db0ef7899dc.png  \n",
            "  inflating: lsun/test/church_outdoor/00de0720834a40bc9707e28eabb5e7902736599d.png  \n",
            "  inflating: __MACOSX/lsun/test/church_outdoor/._00de0720834a40bc9707e28eabb5e7902736599d.png  \n",
            "  inflating: lsun/test/church_outdoor/00de89abae190617bb159dba56e56458e4220521.png  \n",
            "  inflating: __MACOSX/lsun/test/church_outdoor/._00de89abae190617bb159dba56e56458e4220521.png  \n",
            "  inflating: lsun/test/church_outdoor/00df383e5a1d14fef2bc4adba3b8c7e648c39c2b.png  \n",
            "  inflating: __MACOSX/lsun/test/church_outdoor/._00df383e5a1d14fef2bc4adba3b8c7e648c39c2b.png  \n",
            "  inflating: lsun/test/church_outdoor/00e23ade954fdbf1abebc8df8beef22bbf11a01a.png  \n",
            "  inflating: __MACOSX/lsun/test/church_outdoor/._00e23ade954fdbf1abebc8df8beef22bbf11a01a.png  \n",
            "  inflating: lsun/test/church_outdoor/00e28e36b79c60e9bdfd0bcbd44c7856d09de41f.png  \n",
            "  inflating: __MACOSX/lsun/test/church_outdoor/._00e28e36b79c60e9bdfd0bcbd44c7856d09de41f.png  \n",
            "  inflating: lsun/test/church_outdoor/00e2dd3524545f0468a556f4234105f8d9d30a8c.png  \n",
            "  inflating: __MACOSX/lsun/test/church_outdoor/._00e2dd3524545f0468a556f4234105f8d9d30a8c.png  \n",
            "  inflating: lsun/test/church_outdoor/00e3a2b53d619d987aef3540cbcc6990584f3887.png  \n",
            "  inflating: __MACOSX/lsun/test/church_outdoor/._00e3a2b53d619d987aef3540cbcc6990584f3887.png  \n",
            "  inflating: lsun/test/church_outdoor/00e41170e39e429683b3c58d3d959c1570c6ecf3.png  \n",
            "  inflating: __MACOSX/lsun/test/church_outdoor/._00e41170e39e429683b3c58d3d959c1570c6ecf3.png  \n",
            "  inflating: lsun/test/church_outdoor/00e49c9bb5fe6c4c32d6bfba471d3e937f7e2e62.png  \n",
            "  inflating: __MACOSX/lsun/test/church_outdoor/._00e49c9bb5fe6c4c32d6bfba471d3e937f7e2e62.png  \n",
            "  inflating: lsun/test/church_outdoor/00e6344cf7314c617a1f86aaba09fa7f61b98bf7.png  \n",
            "  inflating: __MACOSX/lsun/test/church_outdoor/._00e6344cf7314c617a1f86aaba09fa7f61b98bf7.png  \n",
            "  inflating: lsun/test/church_outdoor/00e64542b9d956bb6165ec1580afdd076a17d448.png  \n",
            "  inflating: __MACOSX/lsun/test/church_outdoor/._00e64542b9d956bb6165ec1580afdd076a17d448.png  \n",
            "  inflating: lsun/test/church_outdoor/00e7dd463531568b978ba0fbdb9a2e7737b74c03.png  \n",
            "  inflating: __MACOSX/lsun/test/church_outdoor/._00e7dd463531568b978ba0fbdb9a2e7737b74c03.png  \n",
            "  inflating: lsun/test/church_outdoor/00e8b1d6cc5ca67b58dd34368e7e83ba22ccb0b4.png  \n",
            "  inflating: __MACOSX/lsun/test/church_outdoor/._00e8b1d6cc5ca67b58dd34368e7e83ba22ccb0b4.png  \n",
            "  inflating: lsun/test/church_outdoor/00e9571fe3d3ad4bdd2dbed608a2d37dbab4fe2e.png  \n",
            "  inflating: __MACOSX/lsun/test/church_outdoor/._00e9571fe3d3ad4bdd2dbed608a2d37dbab4fe2e.png  \n",
            "  inflating: lsun/test/church_outdoor/00e9a2801e5f9080ffdc95dbc8ed7b896d6d1711.png  \n",
            "  inflating: __MACOSX/lsun/test/church_outdoor/._00e9a2801e5f9080ffdc95dbc8ed7b896d6d1711.png  \n",
            "  inflating: lsun/test/church_outdoor/00ea09fc41e42684ebf60160dfc67a8be40c8661.png  \n",
            "  inflating: __MACOSX/lsun/test/church_outdoor/._00ea09fc41e42684ebf60160dfc67a8be40c8661.png  \n",
            "  inflating: lsun/test/church_outdoor/01a06ff66a373095cb9b279aed963cd506687ef3.png  \n",
            "  inflating: __MACOSX/lsun/test/church_outdoor/._01a06ff66a373095cb9b279aed963cd506687ef3.png  \n",
            "  inflating: lsun/test/church_outdoor/01a0a9424032ae28f88c95d56cd7d7b8459e721b.png  \n",
            "  inflating: __MACOSX/lsun/test/church_outdoor/._01a0a9424032ae28f88c95d56cd7d7b8459e721b.png  \n",
            "  inflating: lsun/test/church_outdoor/01a0d1ed2a408b6c9df017d5c5921f0b721a814d.png  \n",
            "  inflating: __MACOSX/lsun/test/church_outdoor/._01a0d1ed2a408b6c9df017d5c5921f0b721a814d.png  \n",
            "  inflating: lsun/test/church_outdoor/01a325c095f17aec6a9cf881891cd80e023786ad.png  \n",
            "  inflating: __MACOSX/lsun/test/church_outdoor/._01a325c095f17aec6a9cf881891cd80e023786ad.png  \n",
            "  inflating: lsun/test/church_outdoor/01a3712045d50541ed4906dbc3b8992dc97fbc9e.png  \n",
            "  inflating: __MACOSX/lsun/test/church_outdoor/._01a3712045d50541ed4906dbc3b8992dc97fbc9e.png  \n",
            "  inflating: lsun/test/church_outdoor/01a392445923d690614224cd3a4d4d6d1c7fa2bd.png  \n",
            "  inflating: __MACOSX/lsun/test/church_outdoor/._01a392445923d690614224cd3a4d4d6d1c7fa2bd.png  \n",
            "  inflating: lsun/test/church_outdoor/01a3c47f7307b5ab69fab3ba40d0ce065a148b8b.png  \n",
            "  inflating: __MACOSX/lsun/test/church_outdoor/._01a3c47f7307b5ab69fab3ba40d0ce065a148b8b.png  \n",
            "  inflating: lsun/test/church_outdoor/01a3dfabc3989908e631e68e73c32b57c668633c.png  \n",
            "  inflating: __MACOSX/lsun/test/church_outdoor/._01a3dfabc3989908e631e68e73c32b57c668633c.png  \n",
            "  inflating: lsun/test/church_outdoor/01a47a8c1ca939f4c3a768b187ee4ef47cec964c.png  \n",
            "  inflating: __MACOSX/lsun/test/church_outdoor/._01a47a8c1ca939f4c3a768b187ee4ef47cec964c.png  \n",
            "  inflating: lsun/test/church_outdoor/01a4d94e73360c96f3f2ad28a6b1c8c1ed61c976.png  \n",
            "  inflating: __MACOSX/lsun/test/church_outdoor/._01a4d94e73360c96f3f2ad28a6b1c8c1ed61c976.png  \n",
            "  inflating: lsun/test/church_outdoor/01a53886070ded66fbb2faa7d86cdb76b21f38b1.png  \n",
            "  inflating: __MACOSX/lsun/test/church_outdoor/._01a53886070ded66fbb2faa7d86cdb76b21f38b1.png  \n",
            "  inflating: lsun/test/church_outdoor/01a55dadd407ffab0bf84415197dc5e1616a6daf.png  \n",
            "  inflating: __MACOSX/lsun/test/church_outdoor/._01a55dadd407ffab0bf84415197dc5e1616a6daf.png  \n",
            "  inflating: lsun/test/church_outdoor/01a58454f956b8ad274a4f524ffe10dc7825a6a3.png  \n",
            "  inflating: __MACOSX/lsun/test/church_outdoor/._01a58454f956b8ad274a4f524ffe10dc7825a6a3.png  \n",
            "  inflating: lsun/test/church_outdoor/01a5ec536b19b81816e42b50d90d4b6ffa4a4847.png  \n",
            "  inflating: __MACOSX/lsun/test/church_outdoor/._01a5ec536b19b81816e42b50d90d4b6ffa4a4847.png  \n",
            "  inflating: lsun/test/church_outdoor/01a63dc68dcbac315b88d6c177facda842755eb2.png  \n",
            "  inflating: __MACOSX/lsun/test/church_outdoor/._01a63dc68dcbac315b88d6c177facda842755eb2.png  \n",
            "  inflating: lsun/test/church_outdoor/01a653c1eb7e6174bea94e3781b123863019ac16.png  \n",
            "  inflating: __MACOSX/lsun/test/church_outdoor/._01a653c1eb7e6174bea94e3781b123863019ac16.png  \n",
            "  inflating: lsun/test/church_outdoor/01a68c03497b25904b1ec4587adcbf76c26fdf5f.png  \n",
            "  inflating: __MACOSX/lsun/test/church_outdoor/._01a68c03497b25904b1ec4587adcbf76c26fdf5f.png  \n",
            "  inflating: lsun/test/church_outdoor/01a75c70e015f5047c364528124ad38ae4c75d2f.png  \n",
            "  inflating: __MACOSX/lsun/test/church_outdoor/._01a75c70e015f5047c364528124ad38ae4c75d2f.png  \n",
            "  inflating: lsun/test/church_outdoor/01a86033a8b5fbd788cd495c44b7412d0190866d.png  \n",
            "  inflating: __MACOSX/lsun/test/church_outdoor/._01a86033a8b5fbd788cd495c44b7412d0190866d.png  \n",
            "  inflating: lsun/test/church_outdoor/01a8ed539e3831b4dc2c627d8756a5eeb458cd2c.png  \n",
            "  inflating: __MACOSX/lsun/test/church_outdoor/._01a8ed539e3831b4dc2c627d8756a5eeb458cd2c.png  \n",
            "  inflating: lsun/test/church_outdoor/01a9844a65bd7c679008223bd4c35e843e5440de.png  \n",
            "  inflating: __MACOSX/lsun/test/church_outdoor/._01a9844a65bd7c679008223bd4c35e843e5440de.png  \n",
            "  inflating: lsun/test/church_outdoor/01a9a36a4b0098160ed28150ecea5b65d245b515.png  \n",
            "  inflating: __MACOSX/lsun/test/church_outdoor/._01a9a36a4b0098160ed28150ecea5b65d245b515.png  \n",
            "  inflating: lsun/test/church_outdoor/01a9ad6e67726930ef739427f4118df008abd9f2.png  \n",
            "  inflating: __MACOSX/lsun/test/church_outdoor/._01a9ad6e67726930ef739427f4118df008abd9f2.png  \n",
            "  inflating: lsun/test/church_outdoor/01aa8ac0f356ba50f49c76b25c16497f04b62d0f.png  \n",
            "  inflating: __MACOSX/lsun/test/church_outdoor/._01aa8ac0f356ba50f49c76b25c16497f04b62d0f.png  \n",
            "  inflating: lsun/test/church_outdoor/01ab22eabd6a433b03c8bb31e3cf072549bab916.png  \n",
            "  inflating: __MACOSX/lsun/test/church_outdoor/._01ab22eabd6a433b03c8bb31e3cf072549bab916.png  \n",
            "  inflating: lsun/test/church_outdoor/01abb5c94e95480e0e269f00a5e8ba0c3fcb275f.png  \n",
            "  inflating: __MACOSX/lsun/test/church_outdoor/._01abb5c94e95480e0e269f00a5e8ba0c3fcb275f.png  \n",
            "  inflating: lsun/test/church_outdoor/01ac013dcfa2613a1eb1e7d85586d5f59d6911d7.png  \n",
            "  inflating: __MACOSX/lsun/test/church_outdoor/._01ac013dcfa2613a1eb1e7d85586d5f59d6911d7.png  \n",
            "  inflating: lsun/test/church_outdoor/01ac3664ea2c2d163c38a162c969d2d4762cb22f.png  \n",
            "  inflating: __MACOSX/lsun/test/church_outdoor/._01ac3664ea2c2d163c38a162c969d2d4762cb22f.png  \n",
            "  inflating: lsun/test/church_outdoor/01ad00817a2918af781f5ce329939c17d787002e.png  \n",
            "  inflating: __MACOSX/lsun/test/church_outdoor/._01ad00817a2918af781f5ce329939c17d787002e.png  \n",
            "  inflating: lsun/test/church_outdoor/01adb3ae5f38a2a126d31897d7d6e6b0f80904eb.png  \n",
            "  inflating: __MACOSX/lsun/test/church_outdoor/._01adb3ae5f38a2a126d31897d7d6e6b0f80904eb.png  \n",
            "  inflating: lsun/test/church_outdoor/01adbf8a0500ff32b9d0f9e3ff3be6b831d0579d.png  \n",
            "  inflating: __MACOSX/lsun/test/church_outdoor/._01adbf8a0500ff32b9d0f9e3ff3be6b831d0579d.png  \n",
            "  inflating: lsun/test/church_outdoor/01adde8606200634ce3f718728ce2193a76f310d.png  \n",
            "  inflating: __MACOSX/lsun/test/church_outdoor/._01adde8606200634ce3f718728ce2193a76f310d.png  \n",
            "  inflating: lsun/test/church_outdoor/01ae11d8bdf79453385fc98dd9fe374e93f5a657.png  \n",
            "  inflating: __MACOSX/lsun/test/church_outdoor/._01ae11d8bdf79453385fc98dd9fe374e93f5a657.png  \n",
            "  inflating: lsun/test/church_outdoor/01aea901631f627c590a84fa95bb9d16231ebbf1.png  \n",
            "  inflating: __MACOSX/lsun/test/church_outdoor/._01aea901631f627c590a84fa95bb9d16231ebbf1.png  \n",
            "  inflating: lsun/test/church_outdoor/01aedaca97f4e653de1300a3b92ff8ffd22e7615.png  \n",
            "  inflating: __MACOSX/lsun/test/church_outdoor/._01aedaca97f4e653de1300a3b92ff8ffd22e7615.png  \n",
            "  inflating: lsun/test/church_outdoor/01afb2ceadbd34774532f6c5f43060754260708e.png  \n",
            "  inflating: __MACOSX/lsun/test/church_outdoor/._01afb2ceadbd34774532f6c5f43060754260708e.png  \n",
            "  inflating: lsun/test/church_outdoor/01afde6db2692d273ffbf095b466891bfa6718a3.png  \n",
            "  inflating: __MACOSX/lsun/test/church_outdoor/._01afde6db2692d273ffbf095b466891bfa6718a3.png  \n",
            "  inflating: lsun/test/church_outdoor/01b0fe8c9367e2c4df2137c4c72e1f48da930ed6.png  \n",
            "  inflating: __MACOSX/lsun/test/church_outdoor/._01b0fe8c9367e2c4df2137c4c72e1f48da930ed6.png  \n",
            "  inflating: lsun/test/church_outdoor/01b2b1d4881bef3701f0a8751fff7aabe2d473ca.png  \n",
            "  inflating: __MACOSX/lsun/test/church_outdoor/._01b2b1d4881bef3701f0a8751fff7aabe2d473ca.png  \n",
            "  inflating: lsun/test/church_outdoor/01b3ab1095235faeb0b7ebee66a0b9055fe5f3a7.png  \n",
            "  inflating: __MACOSX/lsun/test/church_outdoor/._01b3ab1095235faeb0b7ebee66a0b9055fe5f3a7.png  \n",
            "  inflating: lsun/test/church_outdoor/01b3bd91249257e1eb61ce19111e6ecab6336c8a.png  \n",
            "  inflating: __MACOSX/lsun/test/church_outdoor/._01b3bd91249257e1eb61ce19111e6ecab6336c8a.png  \n",
            "  inflating: lsun/test/church_outdoor/01b3ceb9ba8c8828f18942a74066a1dbbe755367.png  \n",
            "  inflating: __MACOSX/lsun/test/church_outdoor/._01b3ceb9ba8c8828f18942a74066a1dbbe755367.png  \n",
            "  inflating: lsun/test/church_outdoor/01b4e2a97123364f19c947e61a6930095594f1a9.png  \n",
            "  inflating: __MACOSX/lsun/test/church_outdoor/._01b4e2a97123364f19c947e61a6930095594f1a9.png  \n",
            "   creating: lsun/test/classroom/\n",
            "  inflating: lsun/test/classroom/.DS_Store  \n",
            "   creating: __MACOSX/lsun/test/classroom/\n",
            "  inflating: __MACOSX/lsun/test/classroom/._.DS_Store  \n",
            "  inflating: lsun/test/classroom/000b0cbef30740c3271d3bef5e4ad9f88ffe1a67.png  \n",
            "  inflating: __MACOSX/lsun/test/classroom/._000b0cbef30740c3271d3bef5e4ad9f88ffe1a67.png  \n",
            "  inflating: lsun/test/classroom/000b330355f940596e1ea11fa3f3e028234200fe.png  \n",
            "  inflating: __MACOSX/lsun/test/classroom/._000b330355f940596e1ea11fa3f3e028234200fe.png  \n",
            "  inflating: lsun/test/classroom/000b759deb0c5a69b3dab186867898fba995508e.png  \n",
            "  inflating: __MACOSX/lsun/test/classroom/._000b759deb0c5a69b3dab186867898fba995508e.png  \n",
            "  inflating: lsun/test/classroom/000c2efd855964484b4b53e93175b840c6b4e6c3.png  \n",
            "  inflating: __MACOSX/lsun/test/classroom/._000c2efd855964484b4b53e93175b840c6b4e6c3.png  \n",
            "  inflating: lsun/test/classroom/00a06ed5edf56fbcc9642f8e3f9683f2bb57aeb8.png  \n",
            "  inflating: __MACOSX/lsun/test/classroom/._00a06ed5edf56fbcc9642f8e3f9683f2bb57aeb8.png  \n",
            "  inflating: lsun/test/classroom/00a10b253fa70f2df2b691ab169e111bc18e143b.png  \n",
            "  inflating: __MACOSX/lsun/test/classroom/._00a10b253fa70f2df2b691ab169e111bc18e143b.png  \n",
            "  inflating: lsun/test/classroom/00a118f035bcd002daee1f119d63959afc1cbf68.png  \n",
            "  inflating: __MACOSX/lsun/test/classroom/._00a118f035bcd002daee1f119d63959afc1cbf68.png  \n",
            "  inflating: lsun/test/classroom/00a1eafa48460478f61202085146e3951533083c.png  \n",
            "  inflating: __MACOSX/lsun/test/classroom/._00a1eafa48460478f61202085146e3951533083c.png  \n",
            "  inflating: lsun/test/classroom/00a2023f1ad3c2be48286d14693ae8d78df5680e.png  \n",
            "  inflating: __MACOSX/lsun/test/classroom/._00a2023f1ad3c2be48286d14693ae8d78df5680e.png  \n",
            "  inflating: lsun/test/classroom/00a22e70c11f26c69f0a619b193be93737511cb3.png  \n",
            "  inflating: __MACOSX/lsun/test/classroom/._00a22e70c11f26c69f0a619b193be93737511cb3.png  \n",
            "  inflating: lsun/test/classroom/00a2481748a912e20ecd3c7fdb6d645d2c1fc1b2.png  \n",
            "  inflating: __MACOSX/lsun/test/classroom/._00a2481748a912e20ecd3c7fdb6d645d2c1fc1b2.png  \n",
            "  inflating: lsun/test/classroom/00a26834ec20f6b34c108fb28e17045943284ac8.png  \n",
            "  inflating: __MACOSX/lsun/test/classroom/._00a26834ec20f6b34c108fb28e17045943284ac8.png  \n",
            "  inflating: lsun/test/classroom/00a2abf3131239ecb9602d5c9898846fbcb2f808.png  \n",
            "  inflating: __MACOSX/lsun/test/classroom/._00a2abf3131239ecb9602d5c9898846fbcb2f808.png  \n",
            "  inflating: lsun/test/classroom/00a361d04fb4b1acead6587a7e7bfb415a4ac1ae.png  \n",
            "  inflating: __MACOSX/lsun/test/classroom/._00a361d04fb4b1acead6587a7e7bfb415a4ac1ae.png  \n",
            "  inflating: lsun/test/classroom/00a40f2338f74bf2b905d44e667a4fd71089aa6b.png  \n",
            "  inflating: __MACOSX/lsun/test/classroom/._00a40f2338f74bf2b905d44e667a4fd71089aa6b.png  \n",
            "  inflating: lsun/test/classroom/00a4198e61bc87dfac808d4b1d01fe6b4ba627c3.png  \n",
            "  inflating: __MACOSX/lsun/test/classroom/._00a4198e61bc87dfac808d4b1d01fe6b4ba627c3.png  \n",
            "  inflating: lsun/test/classroom/00a47d375fdc8470f8bf5249b399f4fd67c7247c.png  \n",
            "  inflating: __MACOSX/lsun/test/classroom/._00a47d375fdc8470f8bf5249b399f4fd67c7247c.png  \n",
            "  inflating: lsun/test/classroom/00a49a0805a7810f2f941a8962b0e8010410f504.png  \n",
            "  inflating: __MACOSX/lsun/test/classroom/._00a49a0805a7810f2f941a8962b0e8010410f504.png  \n",
            "  inflating: lsun/test/classroom/00a4f011fb3dd449f4ee8246ac3efd78a08292be.png  \n",
            "  inflating: __MACOSX/lsun/test/classroom/._00a4f011fb3dd449f4ee8246ac3efd78a08292be.png  \n",
            "  inflating: lsun/test/classroom/00a52ee73d5d6e5e3fb4497439d892fe0252c26e.png  \n",
            "  inflating: __MACOSX/lsun/test/classroom/._00a52ee73d5d6e5e3fb4497439d892fe0252c26e.png  \n",
            "  inflating: lsun/test/classroom/00a53ac5955357588b6c5630dae327b3540933e3.png  \n",
            "  inflating: __MACOSX/lsun/test/classroom/._00a53ac5955357588b6c5630dae327b3540933e3.png  \n",
            "  inflating: lsun/test/classroom/00a58884cbac2b5ecded13cb3d6ae28ffb1d905c.png  \n",
            "  inflating: __MACOSX/lsun/test/classroom/._00a58884cbac2b5ecded13cb3d6ae28ffb1d905c.png  \n",
            "  inflating: lsun/test/classroom/00a588af63bfc762632109eae523b2f923e52ebc.png  \n",
            "  inflating: __MACOSX/lsun/test/classroom/._00a588af63bfc762632109eae523b2f923e52ebc.png  \n",
            "  inflating: lsun/test/classroom/00a5d2c8462c8610d54cead6cfb1005672136bab.png  \n",
            "  inflating: __MACOSX/lsun/test/classroom/._00a5d2c8462c8610d54cead6cfb1005672136bab.png  \n",
            "  inflating: lsun/test/classroom/00a6e3c6b4ddcb18576d9cad64247647c520793e.png  \n",
            "  inflating: __MACOSX/lsun/test/classroom/._00a6e3c6b4ddcb18576d9cad64247647c520793e.png  \n",
            "  inflating: lsun/test/classroom/00a6e609b29b9aeed26ef285d834b4e82d0a3239.png  \n",
            "  inflating: __MACOSX/lsun/test/classroom/._00a6e609b29b9aeed26ef285d834b4e82d0a3239.png  \n",
            "  inflating: lsun/test/classroom/00a78be5ec69b446c20605b993d5360fd0f843be.png  \n",
            "  inflating: __MACOSX/lsun/test/classroom/._00a78be5ec69b446c20605b993d5360fd0f843be.png  \n",
            "  inflating: lsun/test/classroom/00a8eeebcf91ef21e732f8bf624d5f234406efb4.png  \n",
            "  inflating: __MACOSX/lsun/test/classroom/._00a8eeebcf91ef21e732f8bf624d5f234406efb4.png  \n",
            "  inflating: lsun/test/classroom/00a8fa5e2c8aef1dbb20c30bbc014be8145806b3.png  \n",
            "  inflating: __MACOSX/lsun/test/classroom/._00a8fa5e2c8aef1dbb20c30bbc014be8145806b3.png  \n",
            "  inflating: lsun/test/classroom/00a92a80c581ef12b32ed73714b3f5b9413c1d37.png  \n",
            "  inflating: __MACOSX/lsun/test/classroom/._00a92a80c581ef12b32ed73714b3f5b9413c1d37.png  \n",
            "  inflating: lsun/test/classroom/00a985cb88601f2043597c2e8f9c74f1e2f0fa14.png  \n",
            "  inflating: __MACOSX/lsun/test/classroom/._00a985cb88601f2043597c2e8f9c74f1e2f0fa14.png  \n",
            "  inflating: lsun/test/classroom/00a995f1c84f4fa93c536f0fc75d3e55157ee177.png  \n",
            "  inflating: __MACOSX/lsun/test/classroom/._00a995f1c84f4fa93c536f0fc75d3e55157ee177.png  \n",
            "  inflating: lsun/test/classroom/00abe24f92ccd04d292a444329474345321550fa.png  \n",
            "  inflating: __MACOSX/lsun/test/classroom/._00abe24f92ccd04d292a444329474345321550fa.png  \n",
            "  inflating: lsun/test/classroom/00ac5eed602328628718c15ae242e957474b6ca2.png  \n",
            "  inflating: __MACOSX/lsun/test/classroom/._00ac5eed602328628718c15ae242e957474b6ca2.png  \n",
            "  inflating: lsun/test/classroom/00ac5efeb810dab126973b6d40550dc4bd7d770b.png  \n",
            "  inflating: __MACOSX/lsun/test/classroom/._00ac5efeb810dab126973b6d40550dc4bd7d770b.png  \n",
            "  inflating: lsun/test/classroom/00ad719909fca47696ff85c6c92f4030d461b29b.png  \n",
            "  inflating: __MACOSX/lsun/test/classroom/._00ad719909fca47696ff85c6c92f4030d461b29b.png  \n",
            "  inflating: lsun/test/classroom/00ad8c96af6bce4113ffbf052a5e103e9c778188.png  \n",
            "  inflating: __MACOSX/lsun/test/classroom/._00ad8c96af6bce4113ffbf052a5e103e9c778188.png  \n",
            "  inflating: lsun/test/classroom/00adb1fc8a28de3a93129938d7fc70372f98cbb0.png  \n",
            "  inflating: __MACOSX/lsun/test/classroom/._00adb1fc8a28de3a93129938d7fc70372f98cbb0.png  \n",
            "  inflating: lsun/test/classroom/00ae29067e009617b94585c5b64dfde1e5d3a0b9.png  \n",
            "  inflating: __MACOSX/lsun/test/classroom/._00ae29067e009617b94585c5b64dfde1e5d3a0b9.png  \n",
            "  inflating: lsun/test/classroom/00af25effe675412635554cbdb0b09811903d00a.png  \n",
            "  inflating: __MACOSX/lsun/test/classroom/._00af25effe675412635554cbdb0b09811903d00a.png  \n",
            "  inflating: lsun/test/classroom/00af28a81f7570140ab4e9560d93b1c4f5aff30c.png  \n",
            "  inflating: __MACOSX/lsun/test/classroom/._00af28a81f7570140ab4e9560d93b1c4f5aff30c.png  \n",
            "  inflating: lsun/test/classroom/00af65fe54688ccc8b0a027ed252f4c700f859be.png  \n",
            "  inflating: __MACOSX/lsun/test/classroom/._00af65fe54688ccc8b0a027ed252f4c700f859be.png  \n",
            "  inflating: lsun/test/classroom/00afeaf9969e82d88b152d1c480023f95cfaadb5.png  \n",
            "  inflating: __MACOSX/lsun/test/classroom/._00afeaf9969e82d88b152d1c480023f95cfaadb5.png  \n",
            "  inflating: lsun/test/classroom/00b05f0c9a059265d477283faf13b547398b124c.png  \n",
            "  inflating: __MACOSX/lsun/test/classroom/._00b05f0c9a059265d477283faf13b547398b124c.png  \n",
            "  inflating: lsun/test/classroom/00b0bb04ab42606dce9953b7e2ebee33554854e4.png  \n",
            "  inflating: __MACOSX/lsun/test/classroom/._00b0bb04ab42606dce9953b7e2ebee33554854e4.png  \n",
            "  inflating: lsun/test/classroom/00b0f4e65c77c5c65f7db3bcfbf621384c9163e4.png  \n",
            "  inflating: __MACOSX/lsun/test/classroom/._00b0f4e65c77c5c65f7db3bcfbf621384c9163e4.png  \n",
            "  inflating: lsun/test/classroom/00b103011eafbff46778adbd3e80a9c5ea7a6246.png  \n",
            "  inflating: __MACOSX/lsun/test/classroom/._00b103011eafbff46778adbd3e80a9c5ea7a6246.png  \n",
            "  inflating: lsun/test/classroom/00b130bd9e81a5c2ea8d4fe97c20eeed75260f14.png  \n",
            "  inflating: __MACOSX/lsun/test/classroom/._00b130bd9e81a5c2ea8d4fe97c20eeed75260f14.png  \n",
            "  inflating: lsun/test/classroom/00b16d26c76838b89e5b8604a7d2e5a942185582.png  \n",
            "  inflating: __MACOSX/lsun/test/classroom/._00b16d26c76838b89e5b8604a7d2e5a942185582.png  \n",
            "  inflating: lsun/test/classroom/00b17ce8181041cc17a7d11f4a973c889ba76098.png  \n",
            "  inflating: __MACOSX/lsun/test/classroom/._00b17ce8181041cc17a7d11f4a973c889ba76098.png  \n",
            "  inflating: lsun/test/classroom/00b1a325f94f92690dbf34bcb6ea8e7302c8cfb1.png  \n",
            "  inflating: __MACOSX/lsun/test/classroom/._00b1a325f94f92690dbf34bcb6ea8e7302c8cfb1.png  \n",
            "  inflating: lsun/test/classroom/00b1e581c674172569a4cc1b4edf1272a092483c.png  \n",
            "  inflating: __MACOSX/lsun/test/classroom/._00b1e581c674172569a4cc1b4edf1272a092483c.png  \n",
            "  inflating: lsun/test/classroom/00b24c7d85da47930f34450e7a24c192c1fda3fb.png  \n",
            "  inflating: __MACOSX/lsun/test/classroom/._00b24c7d85da47930f34450e7a24c192c1fda3fb.png  \n",
            "  inflating: lsun/test/classroom/00b2b470e177c52c51504b22005903b920c8c11e.png  \n",
            "  inflating: __MACOSX/lsun/test/classroom/._00b2b470e177c52c51504b22005903b920c8c11e.png  \n",
            "  inflating: lsun/test/classroom/00b322a5a4190483be4546b709364febef902d1d.png  \n",
            "  inflating: __MACOSX/lsun/test/classroom/._00b322a5a4190483be4546b709364febef902d1d.png  \n",
            "  inflating: lsun/test/classroom/00b3cab1d94b0eeb41bb7b71e2869e1ba0c28bba.png  \n",
            "  inflating: __MACOSX/lsun/test/classroom/._00b3cab1d94b0eeb41bb7b71e2869e1ba0c28bba.png  \n",
            "  inflating: lsun/test/classroom/00b45e0b4031dd595a9e79d0d647339654357114.png  \n",
            "  inflating: __MACOSX/lsun/test/classroom/._00b45e0b4031dd595a9e79d0d647339654357114.png  \n",
            "  inflating: lsun/test/classroom/00b4e20e5797bcc7f84bc20cbba361cc38a9d0a9.png  \n",
            "  inflating: __MACOSX/lsun/test/classroom/._00b4e20e5797bcc7f84bc20cbba361cc38a9d0a9.png  \n",
            "  inflating: lsun/test/classroom/00b4e8dd33ca53fe19f127361cf98baff0f0ff2b.png  \n",
            "  inflating: __MACOSX/lsun/test/classroom/._00b4e8dd33ca53fe19f127361cf98baff0f0ff2b.png  \n",
            "  inflating: lsun/test/classroom/00b5e4fbe178f27e47e5897f7084a52350431b8e.png  \n",
            "  inflating: __MACOSX/lsun/test/classroom/._00b5e4fbe178f27e47e5897f7084a52350431b8e.png  \n",
            "  inflating: lsun/test/classroom/00b729187887181b0e5b2b0f9e1388f622e2bd42.png  \n",
            "  inflating: __MACOSX/lsun/test/classroom/._00b729187887181b0e5b2b0f9e1388f622e2bd42.png  \n",
            "  inflating: lsun/test/classroom/00b72e2aeb7c2492028ef905709e4020b139f60a.png  \n",
            "  inflating: __MACOSX/lsun/test/classroom/._00b72e2aeb7c2492028ef905709e4020b139f60a.png  \n",
            "  inflating: lsun/test/classroom/00b77a8b18d6fabca5c71bf4cd0ca678f2fbcc10.png  \n",
            "  inflating: __MACOSX/lsun/test/classroom/._00b77a8b18d6fabca5c71bf4cd0ca678f2fbcc10.png  \n",
            "  inflating: lsun/test/classroom/00b7a70f06865755c196ad1c56857f25f28f4a5b.png  \n",
            "  inflating: __MACOSX/lsun/test/classroom/._00b7a70f06865755c196ad1c56857f25f28f4a5b.png  \n",
            "  inflating: lsun/test/classroom/00b802fbb865ab00509b1b37d9d070005c9de8e7.png  \n",
            "  inflating: __MACOSX/lsun/test/classroom/._00b802fbb865ab00509b1b37d9d070005c9de8e7.png  \n",
            "  inflating: lsun/test/classroom/00b8422c1740ff8afd842d070fd1022f982dd1cd.png  \n",
            "  inflating: __MACOSX/lsun/test/classroom/._00b8422c1740ff8afd842d070fd1022f982dd1cd.png  \n",
            "  inflating: lsun/test/classroom/00b888ebb89d523832558518d360415c072d3268.png  \n",
            "  inflating: __MACOSX/lsun/test/classroom/._00b888ebb89d523832558518d360415c072d3268.png  \n",
            "  inflating: lsun/test/classroom/00b889e7205b28d417e1c71bb605bc06617db340.png  \n",
            "  inflating: __MACOSX/lsun/test/classroom/._00b889e7205b28d417e1c71bb605bc06617db340.png  \n",
            "  inflating: lsun/test/classroom/00b8b9045c6c646461fcfbd3c6759866398ab38a.png  \n",
            "  inflating: __MACOSX/lsun/test/classroom/._00b8b9045c6c646461fcfbd3c6759866398ab38a.png  \n",
            "  inflating: lsun/test/classroom/00b99e69438647ebdab2dd18bf9bc2e928daa517.png  \n",
            "  inflating: __MACOSX/lsun/test/classroom/._00b99e69438647ebdab2dd18bf9bc2e928daa517.png  \n",
            "  inflating: lsun/test/classroom/00b9fe20e5fb2fc333b3564af04559dfd5b8eb20.png  \n",
            "  inflating: __MACOSX/lsun/test/classroom/._00b9fe20e5fb2fc333b3564af04559dfd5b8eb20.png  \n",
            "  inflating: lsun/test/classroom/00ba0bf1cbc28a4ef8a777a25eb379882b72adc6.png  \n",
            "  inflating: __MACOSX/lsun/test/classroom/._00ba0bf1cbc28a4ef8a777a25eb379882b72adc6.png  \n",
            "  inflating: lsun/test/classroom/00ba575258b95c46c542b04f90135fd3ff950d94.png  \n",
            "  inflating: __MACOSX/lsun/test/classroom/._00ba575258b95c46c542b04f90135fd3ff950d94.png  \n",
            "  inflating: lsun/test/classroom/00ba63d2651db4dd300f9998b1dcb331970a72bd.png  \n",
            "  inflating: __MACOSX/lsun/test/classroom/._00ba63d2651db4dd300f9998b1dcb331970a72bd.png  \n",
            "  inflating: lsun/test/classroom/00ba95afada566da3402e67d0ddc361a89761aaf.png  \n",
            "  inflating: __MACOSX/lsun/test/classroom/._00ba95afada566da3402e67d0ddc361a89761aaf.png  \n",
            "  inflating: lsun/test/classroom/00baa63ab01ddcf14e3daba5d8fce453eb1afc6b.png  \n",
            "  inflating: __MACOSX/lsun/test/classroom/._00baa63ab01ddcf14e3daba5d8fce453eb1afc6b.png  \n",
            "  inflating: lsun/test/classroom/00bab9099043f0b6ec04464549e8e6dae346bcbd.png  \n",
            "  inflating: __MACOSX/lsun/test/classroom/._00bab9099043f0b6ec04464549e8e6dae346bcbd.png  \n",
            "  inflating: lsun/test/classroom/00bac75be6aa1f9d49752f8f13dc47e23afe3d9f.png  \n",
            "  inflating: __MACOSX/lsun/test/classroom/._00bac75be6aa1f9d49752f8f13dc47e23afe3d9f.png  \n",
            "  inflating: lsun/test/classroom/00bb616352ce2b0226d0ea0ede0aa5eaf5ab84d4.png  \n",
            "  inflating: __MACOSX/lsun/test/classroom/._00bb616352ce2b0226d0ea0ede0aa5eaf5ab84d4.png  \n",
            "  inflating: lsun/test/classroom/00bbacbff431c88d173768a4322b2ade3a31ae3d.png  \n",
            "  inflating: __MACOSX/lsun/test/classroom/._00bbacbff431c88d173768a4322b2ade3a31ae3d.png  \n",
            "  inflating: lsun/test/classroom/00bbc0ae713edea15ca341156694e7346dc8814d.png  \n",
            "  inflating: __MACOSX/lsun/test/classroom/._00bbc0ae713edea15ca341156694e7346dc8814d.png  \n",
            "  inflating: lsun/test/classroom/00bc2a32dd3ab5be7fe858c0d1dcca7e7011e01f.png  \n",
            "  inflating: __MACOSX/lsun/test/classroom/._00bc2a32dd3ab5be7fe858c0d1dcca7e7011e01f.png  \n",
            "  inflating: lsun/test/classroom/00bcc0f537d5834432697e14e191ab03f937ed82.png  \n",
            "  inflating: __MACOSX/lsun/test/classroom/._00bcc0f537d5834432697e14e191ab03f937ed82.png  \n",
            "  inflating: lsun/test/classroom/00bd0199fa4253e6825ea65462218beb69f05dab.png  \n",
            "  inflating: __MACOSX/lsun/test/classroom/._00bd0199fa4253e6825ea65462218beb69f05dab.png  \n",
            "  inflating: lsun/test/classroom/00bd3def605ff04d4eaae083e0fa973d12d19a4d.png  \n",
            "  inflating: __MACOSX/lsun/test/classroom/._00bd3def605ff04d4eaae083e0fa973d12d19a4d.png  \n",
            "  inflating: lsun/test/classroom/00bdd5a2aedb8afd99bcac96be88011d40e4ac08.png  \n",
            "  inflating: __MACOSX/lsun/test/classroom/._00bdd5a2aedb8afd99bcac96be88011d40e4ac08.png  \n",
            "  inflating: lsun/test/classroom/00be89efd3be7260f7d25ee62065a4568e7bd8a5.png  \n",
            "  inflating: __MACOSX/lsun/test/classroom/._00be89efd3be7260f7d25ee62065a4568e7bd8a5.png  \n",
            "  inflating: lsun/test/classroom/00bea25bafb5bd7eef39e6310ae27194ecc75f23.png  \n",
            "  inflating: __MACOSX/lsun/test/classroom/._00bea25bafb5bd7eef39e6310ae27194ecc75f23.png  \n",
            "  inflating: lsun/test/classroom/00bf1dbf7a573a77451f4c172b0edd376e68dc12.png  \n",
            "  inflating: __MACOSX/lsun/test/classroom/._00bf1dbf7a573a77451f4c172b0edd376e68dc12.png  \n",
            "  inflating: lsun/test/classroom/00bf469154d5109072d35798c31ad64fff48df0f.png  \n",
            "  inflating: __MACOSX/lsun/test/classroom/._00bf469154d5109072d35798c31ad64fff48df0f.png  \n",
            "  inflating: lsun/test/classroom/00bfe24f47bb24016c189c5d7902d883aa72a497.png  \n",
            "  inflating: __MACOSX/lsun/test/classroom/._00bfe24f47bb24016c189c5d7902d883aa72a497.png  \n",
            "  inflating: lsun/test/classroom/00c039d8a6edac85107e78fba3c2d6a745bde1c5.png  \n",
            "  inflating: __MACOSX/lsun/test/classroom/._00c039d8a6edac85107e78fba3c2d6a745bde1c5.png  \n",
            "  inflating: lsun/test/classroom/00c09e84493574d8fedf85f9c8c04aa2acfbdcb9.png  \n",
            "  inflating: __MACOSX/lsun/test/classroom/._00c09e84493574d8fedf85f9c8c04aa2acfbdcb9.png  \n",
            "  inflating: lsun/test/classroom/00c14c6d6133882b26b2321fd8fa2a2fff2ea0a2.png  \n",
            "  inflating: __MACOSX/lsun/test/classroom/._00c14c6d6133882b26b2321fd8fa2a2fff2ea0a2.png  \n",
            "  inflating: lsun/test/classroom/00c2ba99f7b025a139380e23722daae762e54a4b.png  \n",
            "  inflating: __MACOSX/lsun/test/classroom/._00c2ba99f7b025a139380e23722daae762e54a4b.png  \n",
            "  inflating: lsun/test/classroom/00c2f3ca97f37bc0764b9e7ad7652a4839a8da95.png  \n",
            "  inflating: __MACOSX/lsun/test/classroom/._00c2f3ca97f37bc0764b9e7ad7652a4839a8da95.png  \n",
            "  inflating: lsun/test/classroom/00c46d1fd8f2e4756abf52d37c691022d9aee291.png  \n",
            "  inflating: __MACOSX/lsun/test/classroom/._00c46d1fd8f2e4756abf52d37c691022d9aee291.png  \n",
            "  inflating: lsun/test/classroom/00c4efc6a205121cb0daf258a39a7550772c2d60.png  \n",
            "  inflating: __MACOSX/lsun/test/classroom/._00c4efc6a205121cb0daf258a39a7550772c2d60.png  \n",
            "  inflating: lsun/test/classroom/00c5e71a486529fa832d509456df713d2e008313.png  \n",
            "  inflating: __MACOSX/lsun/test/classroom/._00c5e71a486529fa832d509456df713d2e008313.png  \n",
            "  inflating: lsun/test/classroom/00c69ebd80e317c32f3456a3b4f60b070ad90741.png  \n",
            "  inflating: __MACOSX/lsun/test/classroom/._00c69ebd80e317c32f3456a3b4f60b070ad90741.png  \n",
            "   creating: lsun/test/conference_room/\n",
            "  inflating: lsun/test/conference_room/.DS_Store  \n",
            "   creating: __MACOSX/lsun/test/conference_room/\n",
            "  inflating: __MACOSX/lsun/test/conference_room/._.DS_Store  \n",
            "  inflating: lsun/test/conference_room/000345d041f788156023ab458236b22b7cd92e48.png  \n",
            "  inflating: __MACOSX/lsun/test/conference_room/._000345d041f788156023ab458236b22b7cd92e48.png  \n",
            "  inflating: lsun/test/conference_room/000531cd963b305d42973f7223ca636e41626305.png  \n",
            "  inflating: __MACOSX/lsun/test/conference_room/._000531cd963b305d42973f7223ca636e41626305.png  \n",
            "  inflating: lsun/test/conference_room/000742cf4fc7a0696217e4d34d49fc70f7b65e12.png  \n",
            "  inflating: __MACOSX/lsun/test/conference_room/._000742cf4fc7a0696217e4d34d49fc70f7b65e12.png  \n",
            "  inflating: lsun/test/conference_room/001019f0b18eba9624895790e9ec10eea4dcfb53.png  \n",
            "  inflating: __MACOSX/lsun/test/conference_room/._001019f0b18eba9624895790e9ec10eea4dcfb53.png  \n",
            "  inflating: lsun/test/conference_room/00228f8f49e9a8716e0954302d1f9104d10c6823.png  \n",
            "  inflating: __MACOSX/lsun/test/conference_room/._00228f8f49e9a8716e0954302d1f9104d10c6823.png  \n",
            "  inflating: lsun/test/conference_room/00231d91ba3540347c254ca82f9b03a6c6a8e266.png  \n",
            "  inflating: __MACOSX/lsun/test/conference_room/._00231d91ba3540347c254ca82f9b03a6c6a8e266.png  \n",
            "  inflating: lsun/test/conference_room/00254a6a7d410f2a0aeba921c65c7623ca9e2feb.png  \n",
            "  inflating: __MACOSX/lsun/test/conference_room/._00254a6a7d410f2a0aeba921c65c7623ca9e2feb.png  \n",
            "  inflating: lsun/test/conference_room/00280a62f92e886c92fa50cca8abc629685321d0.png  \n",
            "  inflating: __MACOSX/lsun/test/conference_room/._00280a62f92e886c92fa50cca8abc629685321d0.png  \n",
            "  inflating: lsun/test/conference_room/00296f23c5e6f6d0e4ed52781bca3e5415bd96cd.png  \n",
            "  inflating: __MACOSX/lsun/test/conference_room/._00296f23c5e6f6d0e4ed52781bca3e5415bd96cd.png  \n",
            "  inflating: lsun/test/conference_room/00299e064a5243b6a9de96e70ca4252267cb1482.png  \n",
            "  inflating: __MACOSX/lsun/test/conference_room/._00299e064a5243b6a9de96e70ca4252267cb1482.png  \n",
            "  inflating: lsun/test/conference_room/00308efcd706d9914d68f9ebb36f75b97e702825.png  \n",
            "  inflating: __MACOSX/lsun/test/conference_room/._00308efcd706d9914d68f9ebb36f75b97e702825.png  \n",
            "  inflating: lsun/test/conference_room/00330ebfb9e2b6732a7f49c3c81c011ed1ede881.png  \n",
            "  inflating: __MACOSX/lsun/test/conference_room/._00330ebfb9e2b6732a7f49c3c81c011ed1ede881.png  \n",
            "  inflating: lsun/test/conference_room/00348c9973eea19b8d7bba1a79cf1d7f10887b79.png  \n",
            "  inflating: __MACOSX/lsun/test/conference_room/._00348c9973eea19b8d7bba1a79cf1d7f10887b79.png  \n",
            "  inflating: lsun/test/conference_room/00355bd22df16272122a566c78f346075811ebb1.png  \n",
            "  inflating: __MACOSX/lsun/test/conference_room/._00355bd22df16272122a566c78f346075811ebb1.png  \n",
            "  inflating: lsun/test/conference_room/00379f577ece29b0982383528646de1559ef4243.png  \n",
            "  inflating: __MACOSX/lsun/test/conference_room/._00379f577ece29b0982383528646de1559ef4243.png  \n",
            "  inflating: lsun/test/conference_room/00390efdf7d0ce97fbeb225ef9068952e1bf8733.png  \n",
            "  inflating: __MACOSX/lsun/test/conference_room/._00390efdf7d0ce97fbeb225ef9068952e1bf8733.png  \n",
            "  inflating: lsun/test/conference_room/00400f0591745417e0bef084474a8962c1ff6c23.png  \n",
            "  inflating: __MACOSX/lsun/test/conference_room/._00400f0591745417e0bef084474a8962c1ff6c23.png  \n",
            "  inflating: lsun/test/conference_room/00403d60befff973ee29624321ac6b91ca347ca5.png  \n",
            "  inflating: __MACOSX/lsun/test/conference_room/._00403d60befff973ee29624321ac6b91ca347ca5.png  \n",
            "  inflating: lsun/test/conference_room/00417f0e10c7ff287b16a804b9d0157280d4ae8f.png  \n",
            "  inflating: __MACOSX/lsun/test/conference_room/._00417f0e10c7ff287b16a804b9d0157280d4ae8f.png  \n",
            "  inflating: lsun/test/conference_room/00418dfe69b2680c7dc506482d216c4c42363a7f.png  \n",
            "  inflating: __MACOSX/lsun/test/conference_room/._00418dfe69b2680c7dc506482d216c4c42363a7f.png  \n",
            "  inflating: lsun/test/conference_room/00426bd7ef3a87806ae3d0cb6541561933896776.png  \n",
            "  inflating: __MACOSX/lsun/test/conference_room/._00426bd7ef3a87806ae3d0cb6541561933896776.png  \n",
            "  inflating: lsun/test/conference_room/00436e84ce4abbaf1e3c18161a3bea65d2c89ace.png  \n",
            "  inflating: __MACOSX/lsun/test/conference_room/._00436e84ce4abbaf1e3c18161a3bea65d2c89ace.png  \n",
            "  inflating: lsun/test/conference_room/00439d8d70402dbfffcc55f3f9405410a1ce156f.png  \n",
            "  inflating: __MACOSX/lsun/test/conference_room/._00439d8d70402dbfffcc55f3f9405410a1ce156f.png  \n",
            "  inflating: lsun/test/conference_room/00450bda3cc954d2a3c3ac6da07a6bb27194cab0.png  \n",
            "  inflating: __MACOSX/lsun/test/conference_room/._00450bda3cc954d2a3c3ac6da07a6bb27194cab0.png  \n",
            "  inflating: lsun/test/conference_room/00458f46cdc39704670ed3d1e9cafa659b1bace4.png  \n",
            "  inflating: __MACOSX/lsun/test/conference_room/._00458f46cdc39704670ed3d1e9cafa659b1bace4.png  \n",
            "  inflating: lsun/test/conference_room/00469cd3c37b817883e72ae358927629db397c97.png  \n",
            "  inflating: __MACOSX/lsun/test/conference_room/._00469cd3c37b817883e72ae358927629db397c97.png  \n",
            "  inflating: lsun/test/conference_room/00473c7de4490adb3a10ec074f34d67f54b90756.png  \n",
            "  inflating: __MACOSX/lsun/test/conference_room/._00473c7de4490adb3a10ec074f34d67f54b90756.png  \n",
            "  inflating: lsun/test/conference_room/00474bac3c5fa379583feef49c88246cd9818eca.png  \n",
            "  inflating: __MACOSX/lsun/test/conference_room/._00474bac3c5fa379583feef49c88246cd9818eca.png  \n",
            "  inflating: lsun/test/conference_room/00482bae798dd924bea806ae30524cc86d445d16.png  \n",
            "  inflating: __MACOSX/lsun/test/conference_room/._00482bae798dd924bea806ae30524cc86d445d16.png  \n",
            "  inflating: lsun/test/conference_room/00516adac5dec54f9499d316eaffa90ef49e9e5e.png  \n",
            "  inflating: __MACOSX/lsun/test/conference_room/._00516adac5dec54f9499d316eaffa90ef49e9e5e.png  \n",
            "  inflating: lsun/test/conference_room/00528f4b2e47e031cf08bf8cd29ffd31cb2bb12f.png  \n",
            "  inflating: __MACOSX/lsun/test/conference_room/._00528f4b2e47e031cf08bf8cd29ffd31cb2bb12f.png  \n",
            "  inflating: lsun/test/conference_room/00535e140346aa291de781e5b06d580572056785.png  \n",
            "  inflating: __MACOSX/lsun/test/conference_room/._00535e140346aa291de781e5b06d580572056785.png  \n",
            "  inflating: lsun/test/conference_room/00544fa64de7b493a5e1171e6969a31987021d9d.png  \n",
            "  inflating: __MACOSX/lsun/test/conference_room/._00544fa64de7b493a5e1171e6969a31987021d9d.png  \n",
            "  inflating: lsun/test/conference_room/00579cf9fe6916bc088c2704b156fdbca66fbabf.png  \n",
            "  inflating: __MACOSX/lsun/test/conference_room/._00579cf9fe6916bc088c2704b156fdbca66fbabf.png  \n",
            "  inflating: lsun/test/conference_room/00622c4997cea27a041007902bbcb23b3254fd34.png  \n",
            "  inflating: __MACOSX/lsun/test/conference_room/._00622c4997cea27a041007902bbcb23b3254fd34.png  \n",
            "  inflating: lsun/test/conference_room/00644bd7ad3097a64dd0dcd1714e7f7642ad07a4.png  \n",
            "  inflating: __MACOSX/lsun/test/conference_room/._00644bd7ad3097a64dd0dcd1714e7f7642ad07a4.png  \n",
            "  inflating: lsun/test/conference_room/00653f73697e0a6603cedbc8c7de835e1a522a83.png  \n",
            "  inflating: __MACOSX/lsun/test/conference_room/._00653f73697e0a6603cedbc8c7de835e1a522a83.png  \n",
            "  inflating: lsun/test/conference_room/00666cfa007f1764533d2ced9f4c550f6c81929f.png  \n",
            "  inflating: __MACOSX/lsun/test/conference_room/._00666cfa007f1764533d2ced9f4c550f6c81929f.png  \n",
            "  inflating: lsun/test/conference_room/00670ef913c7298cc0b33972fe8c5eceb6cc6ece.png  \n",
            "  inflating: __MACOSX/lsun/test/conference_room/._00670ef913c7298cc0b33972fe8c5eceb6cc6ece.png  \n",
            "  inflating: lsun/test/conference_room/00674d009655f06cb0044706a0eb74c18aee7335.png  \n",
            "  inflating: __MACOSX/lsun/test/conference_room/._00674d009655f06cb0044706a0eb74c18aee7335.png  \n",
            "  inflating: lsun/test/conference_room/00684e3c28bd9cb8f9da0adc59b10eb29fef8a0d.png  \n",
            "  inflating: __MACOSX/lsun/test/conference_room/._00684e3c28bd9cb8f9da0adc59b10eb29fef8a0d.png  \n",
            "  inflating: lsun/test/conference_room/00721f26a43c932c7c2caad9fb33f00a2ca0bfc1.png  \n",
            "  inflating: __MACOSX/lsun/test/conference_room/._00721f26a43c932c7c2caad9fb33f00a2ca0bfc1.png  \n",
            "  inflating: lsun/test/conference_room/00733ed9451c3bbdd4f6b3b0618df0fc299dcbdd.png  \n",
            "  inflating: __MACOSX/lsun/test/conference_room/._00733ed9451c3bbdd4f6b3b0618df0fc299dcbdd.png  \n",
            "  inflating: lsun/test/conference_room/00799ab909fddfa636eea6865d21bd4fd99344c1.png  \n",
            "  inflating: __MACOSX/lsun/test/conference_room/._00799ab909fddfa636eea6865d21bd4fd99344c1.png  \n",
            "  inflating: lsun/test/conference_room/00805fb66bc8c4f8a82a8ddde3db4251240d78c4.png  \n",
            "  inflating: __MACOSX/lsun/test/conference_room/._00805fb66bc8c4f8a82a8ddde3db4251240d78c4.png  \n",
            "  inflating: lsun/test/conference_room/00811a9a4f7b28211aa15c2754206c2ba530b8e6.png  \n",
            "  inflating: __MACOSX/lsun/test/conference_room/._00811a9a4f7b28211aa15c2754206c2ba530b8e6.png  \n",
            "  inflating: lsun/test/conference_room/00819caa714dede23792377be03ccf5cf1159b62.png  \n",
            "  inflating: __MACOSX/lsun/test/conference_room/._00819caa714dede23792377be03ccf5cf1159b62.png  \n",
            "  inflating: lsun/test/conference_room/00820b2285e5a5aa68088a5f5407c52256699042.png  \n",
            "  inflating: __MACOSX/lsun/test/conference_room/._00820b2285e5a5aa68088a5f5407c52256699042.png  \n",
            "  inflating: lsun/test/conference_room/00827a9e2d4d12fdabde9a44da840f08074e2338.png  \n",
            "  inflating: __MACOSX/lsun/test/conference_room/._00827a9e2d4d12fdabde9a44da840f08074e2338.png  \n",
            "  inflating: lsun/test/conference_room/00838cd747af454fdcbf2ec463682505cffdef94.png  \n",
            "  inflating: __MACOSX/lsun/test/conference_room/._00838cd747af454fdcbf2ec463682505cffdef94.png  \n",
            "  inflating: lsun/test/conference_room/00839c035631cd16ef128ad47f92ef04d5ecea1d.png  \n",
            "  inflating: __MACOSX/lsun/test/conference_room/._00839c035631cd16ef128ad47f92ef04d5ecea1d.png  \n",
            "  inflating: lsun/test/conference_room/00850cabea1f4da51b2ae1e4bea069aeed12b9aa.png  \n",
            "  inflating: __MACOSX/lsun/test/conference_room/._00850cabea1f4da51b2ae1e4bea069aeed12b9aa.png  \n",
            "  inflating: lsun/test/conference_room/00855a9cd35b4f4a3cae8a0fbdc3982ae33be40d.png  \n",
            "  inflating: __MACOSX/lsun/test/conference_room/._00855a9cd35b4f4a3cae8a0fbdc3982ae33be40d.png  \n",
            "  inflating: lsun/test/conference_room/00859c64efae5b7d089b341abf7d39f6e6bb9bbb.png  \n",
            "  inflating: __MACOSX/lsun/test/conference_room/._00859c64efae5b7d089b341abf7d39f6e6bb9bbb.png  \n",
            "  inflating: lsun/test/conference_room/00864c5223e31b4a9a69c0c5eecc57ea9ff07817.png  \n",
            "  inflating: __MACOSX/lsun/test/conference_room/._00864c5223e31b4a9a69c0c5eecc57ea9ff07817.png  \n",
            "  inflating: lsun/test/conference_room/00877ecb47f306bbbe8552edc8a3df7a1f7b3efd.png  \n",
            "  inflating: __MACOSX/lsun/test/conference_room/._00877ecb47f306bbbe8552edc8a3df7a1f7b3efd.png  \n",
            "  inflating: lsun/test/conference_room/00889e942d5be26457a5c93d5aec8c779192d921.png  \n",
            "  inflating: __MACOSX/lsun/test/conference_room/._00889e942d5be26457a5c93d5aec8c779192d921.png  \n",
            "  inflating: lsun/test/conference_room/00890fa42936d0426f94b38d045ca260984653f0.png  \n",
            "  inflating: __MACOSX/lsun/test/conference_room/._00890fa42936d0426f94b38d045ca260984653f0.png  \n",
            "  inflating: lsun/test/conference_room/00892c3a64ff9869253bb26ff2c253949b46bdbf.png  \n",
            "  inflating: __MACOSX/lsun/test/conference_room/._00892c3a64ff9869253bb26ff2c253949b46bdbf.png  \n",
            "  inflating: lsun/test/conference_room/00917ca33986f87070898f2ea54818bf83ad46fc.png  \n",
            "  inflating: __MACOSX/lsun/test/conference_room/._00917ca33986f87070898f2ea54818bf83ad46fc.png  \n",
            "  inflating: lsun/test/conference_room/00918cfd3078ea0a57a4b94a6be3e13446f862a5.png  \n",
            "  inflating: __MACOSX/lsun/test/conference_room/._00918cfd3078ea0a57a4b94a6be3e13446f862a5.png  \n",
            "  inflating: lsun/test/conference_room/00933a4b04714cfd852aee8e2effd88938613772.png  \n",
            "  inflating: __MACOSX/lsun/test/conference_room/._00933a4b04714cfd852aee8e2effd88938613772.png  \n",
            "  inflating: lsun/test/conference_room/00941b607de2c2196aef79657c5ecc977f1c9a22.png  \n",
            "  inflating: __MACOSX/lsun/test/conference_room/._00941b607de2c2196aef79657c5ecc977f1c9a22.png  \n",
            "  inflating: lsun/test/conference_room/00943ce29cfc6ece327276c64d7d461ec376d266.png  \n",
            "  inflating: __MACOSX/lsun/test/conference_room/._00943ce29cfc6ece327276c64d7d461ec376d266.png  \n",
            "  inflating: lsun/test/conference_room/00955e123108ff55dae87ef244ae45d7a5f85336.png  \n",
            "  inflating: __MACOSX/lsun/test/conference_room/._00955e123108ff55dae87ef244ae45d7a5f85336.png  \n",
            "  inflating: lsun/test/conference_room/00968a0d5499465f5cfe4df28c7ca8cec455d0d4.png  \n",
            "  inflating: __MACOSX/lsun/test/conference_room/._00968a0d5499465f5cfe4df28c7ca8cec455d0d4.png  \n",
            "  inflating: lsun/test/conference_room/00973e4a7c977339b06fda0b18a274bc08d0230d.png  \n",
            "  inflating: __MACOSX/lsun/test/conference_room/._00973e4a7c977339b06fda0b18a274bc08d0230d.png  \n",
            "  inflating: lsun/test/conference_room/00981d667e890cb50612b0634a71a1e3892b1e7e.png  \n",
            "  inflating: __MACOSX/lsun/test/conference_room/._00981d667e890cb50612b0634a71a1e3892b1e7e.png  \n",
            "  inflating: lsun/test/conference_room/00995d3f0e1aa07d45680f0ba3184e192680c39b.png  \n",
            "  inflating: __MACOSX/lsun/test/conference_room/._00995d3f0e1aa07d45680f0ba3184e192680c39b.png  \n",
            "  inflating: lsun/test/conference_room/01008abe4ce9f5e9a7b27fc4ab6e1af775a07bf3.png  \n",
            "  inflating: __MACOSX/lsun/test/conference_room/._01008abe4ce9f5e9a7b27fc4ab6e1af775a07bf3.png  \n",
            "  inflating: lsun/test/conference_room/01008cdc649066c78bd1c3bd977826afba1904cd.png  \n",
            "  inflating: __MACOSX/lsun/test/conference_room/._01008cdc649066c78bd1c3bd977826afba1904cd.png  \n",
            "  inflating: lsun/test/conference_room/01046f36690d1510a516391e3b5119c0a226008a.png  \n",
            "  inflating: __MACOSX/lsun/test/conference_room/._01046f36690d1510a516391e3b5119c0a226008a.png  \n",
            "  inflating: lsun/test/conference_room/01055d1118daefb9825738e88f732f30287f079c.png  \n",
            "  inflating: __MACOSX/lsun/test/conference_room/._01055d1118daefb9825738e88f732f30287f079c.png  \n",
            "  inflating: lsun/test/conference_room/0214d2196b43f0ed47e76223b6f88fb7138271b2.png  \n",
            "  inflating: __MACOSX/lsun/test/conference_room/._0214d2196b43f0ed47e76223b6f88fb7138271b2.png  \n",
            "  inflating: lsun/test/conference_room/0214e37ba23e96cd5305a3925d44283368d8e38a.png  \n",
            "  inflating: __MACOSX/lsun/test/conference_room/._0214e37ba23e96cd5305a3925d44283368d8e38a.png  \n",
            "  inflating: lsun/test/conference_room/0214e3af7408c38166bf6b4941279911001c3692.png  \n",
            "  inflating: __MACOSX/lsun/test/conference_room/._0214e3af7408c38166bf6b4941279911001c3692.png  \n",
            "  inflating: lsun/test/conference_room/0215ec4deb7631fde49da00be05eb070a184f635.png  \n",
            "  inflating: __MACOSX/lsun/test/conference_room/._0215ec4deb7631fde49da00be05eb070a184f635.png  \n",
            "  inflating: lsun/test/conference_room/0215fd3cf4e20423353596c03fd2c362bd66b21d.png  \n",
            "  inflating: __MACOSX/lsun/test/conference_room/._0215fd3cf4e20423353596c03fd2c362bd66b21d.png  \n",
            "  inflating: lsun/test/conference_room/0218d5ba6606ec50e4f8b370bc4e407ae82477a7.png  \n",
            "  inflating: __MACOSX/lsun/test/conference_room/._0218d5ba6606ec50e4f8b370bc4e407ae82477a7.png  \n",
            "  inflating: lsun/test/conference_room/0218eb3e3d9c3b5ead9b5050a7768b5d01f2604c.png  \n",
            "  inflating: __MACOSX/lsun/test/conference_room/._0218eb3e3d9c3b5ead9b5050a7768b5d01f2604c.png  \n",
            "  inflating: lsun/test/conference_room/0219ae11af42b14376d37a85c12df3b2d6ddc586.png  \n",
            "  inflating: __MACOSX/lsun/test/conference_room/._0219ae11af42b14376d37a85c12df3b2d6ddc586.png  \n",
            "  inflating: lsun/test/conference_room/0219de37ecb77f2712b0c6ce13f9c34ed6a4de4a.png  \n",
            "  inflating: __MACOSX/lsun/test/conference_room/._0219de37ecb77f2712b0c6ce13f9c34ed6a4de4a.png  \n",
            "  inflating: lsun/test/conference_room/0220cc93cf5b5d3bda53df5a790647fe5592e4de.png  \n",
            "  inflating: __MACOSX/lsun/test/conference_room/._0220cc93cf5b5d3bda53df5a790647fe5592e4de.png  \n",
            "  inflating: lsun/test/conference_room/0220d4b6d8fb5f0f9a851c924f30bd27df454a29.png  \n",
            "  inflating: __MACOSX/lsun/test/conference_room/._0220d4b6d8fb5f0f9a851c924f30bd27df454a29.png  \n",
            "  inflating: lsun/test/conference_room/0220e5039f069a66b4203d4717cbfb5b15f12393.png  \n",
            "  inflating: __MACOSX/lsun/test/conference_room/._0220e5039f069a66b4203d4717cbfb5b15f12393.png  \n",
            "  inflating: lsun/test/conference_room/0221a592d15c46b0b552e643fd4afcdaccb95ff8.png  \n",
            "  inflating: __MACOSX/lsun/test/conference_room/._0221a592d15c46b0b552e643fd4afcdaccb95ff8.png  \n",
            "  inflating: lsun/test/conference_room/0221ab49bb4cfaf550dcb72635653fde8591deb2.png  \n",
            "  inflating: __MACOSX/lsun/test/conference_room/._0221ab49bb4cfaf550dcb72635653fde8591deb2.png  \n",
            "  inflating: lsun/test/conference_room/0221ae3b161d7055fc1516479137b9eb2b28aefe.png  \n",
            "  inflating: __MACOSX/lsun/test/conference_room/._0221ae3b161d7055fc1516479137b9eb2b28aefe.png  \n",
            "  inflating: lsun/test/conference_room/0224a4c4b8fd2abc0c0c6de60eac232a059d570f.png  \n",
            "  inflating: __MACOSX/lsun/test/conference_room/._0224a4c4b8fd2abc0c0c6de60eac232a059d570f.png  \n",
            "  inflating: lsun/test/conference_room/0225c81a0fdc13655d0ce7c7abf67ca78cc9ed67.png  \n",
            "  inflating: __MACOSX/lsun/test/conference_room/._0225c81a0fdc13655d0ce7c7abf67ca78cc9ed67.png  \n",
            "  inflating: lsun/test/conference_room/0225d347e57daf80292ad2c58c73fdfa44bb2bc4.png  \n",
            "  inflating: __MACOSX/lsun/test/conference_room/._0225d347e57daf80292ad2c58c73fdfa44bb2bc4.png  \n",
            "  inflating: lsun/test/conference_room/0225e088bfa5d41c9b50b56ea25386f3e4e31fea.png  \n",
            "  inflating: __MACOSX/lsun/test/conference_room/._0225e088bfa5d41c9b50b56ea25386f3e4e31fea.png  \n",
            "  inflating: lsun/test/conference_room/0226a253d52f7fa40998e6c2289ffe27b97db71b.png  \n",
            "  inflating: __MACOSX/lsun/test/conference_room/._0226a253d52f7fa40998e6c2289ffe27b97db71b.png  \n",
            "  inflating: lsun/test/conference_room/0226d79e6fd1e312a66275fe4bcc87c8f7048e32.png  \n",
            "  inflating: __MACOSX/lsun/test/conference_room/._0226d79e6fd1e312a66275fe4bcc87c8f7048e32.png  \n",
            "  inflating: lsun/test/conference_room/0227ecf89814600935b865cb2c7f9532b7454718.png  \n",
            "  inflating: __MACOSX/lsun/test/conference_room/._0227ecf89814600935b865cb2c7f9532b7454718.png  \n",
            "  inflating: lsun/test/conference_room/0228d4391bb838bb4e45b98d8d63c7c8a12ee2ff.png  \n",
            "  inflating: __MACOSX/lsun/test/conference_room/._0228d4391bb838bb4e45b98d8d63c7c8a12ee2ff.png  \n",
            "  inflating: lsun/test/conference_room/0229afcdaf07c2a763486f6518ae57d96a6b9f1a.png  \n",
            "  inflating: __MACOSX/lsun/test/conference_room/._0229afcdaf07c2a763486f6518ae57d96a6b9f1a.png  \n",
            "  inflating: lsun/test/conference_room/0229c7de08b773975be453554aefad397653ecbe.png  \n",
            "  inflating: __MACOSX/lsun/test/conference_room/._0229c7de08b773975be453554aefad397653ecbe.png  \n",
            "  inflating: lsun/test/conference_room/0231aa710c00e7768817d5659e2ee4d64a07c4c0.png  \n",
            "  inflating: __MACOSX/lsun/test/conference_room/._0231aa710c00e7768817d5659e2ee4d64a07c4c0.png  \n",
            "  inflating: lsun/test/conference_room/0231fcb6cc9d0922e158087656b4246982b823d2.png  \n",
            "  inflating: __MACOSX/lsun/test/conference_room/._0231fcb6cc9d0922e158087656b4246982b823d2.png  \n",
            "   creating: lsun/train/\n",
            "  inflating: lsun/train/.DS_Store    \n",
            "   creating: __MACOSX/lsun/train/\n",
            "  inflating: __MACOSX/lsun/train/._.DS_Store  \n",
            "   creating: lsun/train/church_outdoor/\n",
            "  inflating: lsun/train/church_outdoor/00009551250132a864217558835a3988717c9ba3.png  \n",
            "  inflating: lsun/train/church_outdoor/0012635575c48a41e92176db6e673890e7e17ab2.png  \n",
            "  inflating: lsun/train/church_outdoor/00148948192d331ef62feee2f82093ee2e7c8624.png  \n",
            "  inflating: lsun/train/church_outdoor/001857719016e7232e13b1a8a6712c3695973c33.png  \n",
            "  inflating: lsun/train/church_outdoor/001995449dca4d0afbd3220f7c934e24c037e2c2.png  \n",
            "  inflating: lsun/train/church_outdoor/002137854b5aae04ec595cfb7bccaa9fb05d046e.png  \n",
            "  inflating: lsun/train/church_outdoor/002756819586d214c57586419e94ace6c4480eaa.png  \n",
            "  inflating: lsun/train/church_outdoor/003359286a4fa633bc96b3f34f7b48d0b9f1cff2.png  \n",
            "  inflating: lsun/train/church_outdoor/003677016f8f0e983bf28e71c195bb569163b27b.png  \n",
            "  inflating: lsun/train/church_outdoor/00383097038f543168a733a92887dac6c642de5e.png  \n",
            "  inflating: lsun/train/church_outdoor/004247352c41a731dc57105b14c9ab2c0a86899b.png  \n",
            "  inflating: lsun/train/church_outdoor/004443093196d8d7ea0812986ba199efaa43a80c.png  \n",
            "  inflating: lsun/train/church_outdoor/00491800453ec279a56223e6c65064350b450634.png  \n",
            "  inflating: lsun/train/church_outdoor/0050472423d8b148a19f093a391f02ce20ef876a.png  \n",
            "  inflating: lsun/train/church_outdoor/005276935091d1eb633b6d75c99ba57fe9ad5d4a.png  \n",
            "  inflating: lsun/train/church_outdoor/005768175767520e67fa5078e7dfb1590c3840a4.png  \n",
            "  inflating: lsun/train/church_outdoor/006468029d43c3f31898c8dc56ac581855832240.png  \n",
            "  inflating: lsun/train/church_outdoor/006661878b3b4d646431c7649d4fac8bbec976a1.png  \n",
            "  inflating: lsun/train/church_outdoor/006968810427b8601b48b7e09b58e407a86c8442.png  \n",
            "  inflating: lsun/train/church_outdoor/0070117078d6825a2cd6af184cc3f2db695a48bf.png  \n",
            "  inflating: lsun/train/church_outdoor/0071764839208a0645327df8ce5359d9e6cea674.png  \n",
            "  inflating: lsun/train/church_outdoor/00963103871218e7e4d21642b4bdf60d27e54297.png  \n",
            "  inflating: lsun/train/church_outdoor/010590511b6034241f49201210b83f062e1b720e.png  \n",
            "  inflating: lsun/train/church_outdoor/010612480fb0b7a848b29575f9c02dcc221bdbd3.png  \n",
            "  inflating: lsun/train/church_outdoor/011346884d535bc0902fd056f5ba8dcd9e565d11.png  \n",
            "  inflating: lsun/train/church_outdoor/01263299ba15d397918e251ed95cb492223ba29d.png  \n",
            "  inflating: lsun/train/church_outdoor/012974349922c53acb0f64a27726bc7c5f9ead1f.png  \n",
            "  inflating: lsun/train/church_outdoor/01311993711c423ef452ef5c5d8e02113c6a7412.png  \n",
            "  inflating: lsun/train/church_outdoor/01362096dddf37c5f15381f257679ba598d1f22d.png  \n",
            "  inflating: lsun/train/church_outdoor/01400090253c457e35d355e680e574f4ab3f34bb.png  \n",
            "  inflating: lsun/train/church_outdoor/01453586ae728a9c5af8cde586fe9e836e5e3532.png  \n",
            "  inflating: lsun/train/church_outdoor/0145961822bdf48730579dff1bc70f862ccf7baf.png  \n",
            "  inflating: lsun/train/church_outdoor/0153195669f3f3c49c64adfdb51f1f97e400296f.png  \n",
            "  inflating: lsun/train/church_outdoor/015611707ad167d4e5ee3f088d6a0725b0ea1b73.png  \n",
            "  inflating: lsun/train/church_outdoor/015715990e684b348ab7a09a07d34116715d2f20.png  \n",
            "  inflating: lsun/train/church_outdoor/0160324184a896a493bfb816b20e5afac9f380be.png  \n",
            "  inflating: lsun/train/church_outdoor/016262623803a18580066e85710e678510a347dd.png  \n",
            "  inflating: lsun/train/church_outdoor/016572607a576d8cee42003d6c207ceb798eaac2.png  \n",
            "  inflating: lsun/train/church_outdoor/0167047779ebf43dffd0a209920f09fab81ac492.png  \n",
            "  inflating: lsun/train/church_outdoor/01710189bbfdda5ee64cde083afbfaa379e89222.png  \n",
            "  inflating: lsun/train/church_outdoor/01724254681071b868bcbdf7868b2be1d6503cd7.png  \n",
            "  inflating: lsun/train/church_outdoor/0188070563ce15a1ab8d24efe10296e70373db3e.png  \n",
            "  inflating: lsun/train/church_outdoor/01918756be3eaf13ade015057b000dbf48901eeb.png  \n",
            "  inflating: lsun/train/church_outdoor/01949564d6e5e9a3b91e493681218c804591a662.png  \n",
            "  inflating: lsun/train/church_outdoor/02033241ce09de80265638b5818b81eb1de3a642.png  \n",
            "  inflating: lsun/train/church_outdoor/0204864338da7fef1be5e7a94a80e3a3886f983c.png  \n",
            "  inflating: lsun/train/church_outdoor/020511276a6a316a00db94e1274edb513bcb2c35.png  \n",
            "  inflating: lsun/train/church_outdoor/02073226a58d7961c060a596df175d3c5a829476.png  \n",
            "  inflating: lsun/train/church_outdoor/02148510632286a1e2b9229961352ba82e8ccfd2.png  \n",
            "  inflating: lsun/train/church_outdoor/0218918098292fb9979b24ddd7fefe21646630b7.png  \n",
            "  inflating: lsun/train/church_outdoor/02281367f1b6590c8923fdf85bc949f687003ee5.png  \n",
            "  inflating: lsun/train/church_outdoor/02474979f4eb85598dcdb7f9875842b91167dcf4.png  \n",
            "  inflating: lsun/train/church_outdoor/024943626546a57470c44146a7df69adf2aa198d.png  \n",
            "  inflating: lsun/train/church_outdoor/02512456df8e45d30c4d3ac1af87d517c458cd6b.png  \n",
            "  inflating: lsun/train/church_outdoor/025169045301d528fbf6b775ed4ad81028dcce61.png  \n",
            "  inflating: lsun/train/church_outdoor/02646937cd25188b28fc2e4dcdff5f6525e18054.png  \n",
            "  inflating: lsun/train/church_outdoor/026535708657fdfeda5453481bd8a0d41870d062.png  \n",
            "  inflating: lsun/train/church_outdoor/027015242f1ec806ab09b44da298ac2ab9a18928.png  \n",
            "  inflating: lsun/train/church_outdoor/0274444195fd4b81c507fa59215a741f6cce1bb3.png  \n",
            "  inflating: lsun/train/church_outdoor/0277559696b1c0f4ddbf14e9f5e11aeb16a41714.png  \n",
            "  inflating: lsun/train/church_outdoor/0278129203a81b80607b05bba63dca6bd0a0c340.png  \n",
            "  inflating: lsun/train/church_outdoor/028215502dff614cb40fbab0b7ca84df98e63fb4.png  \n",
            "  inflating: lsun/train/church_outdoor/02836506bd04661c811a17483c2d5fd9ecaebb94.png  \n",
            "  inflating: lsun/train/church_outdoor/02843820a1822da8c70ce0f0742a3179b6ed472a.png  \n",
            "  inflating: lsun/train/church_outdoor/02870130391e93790361075b1fc9507630a511f4.png  \n",
            "  inflating: lsun/train/church_outdoor/02907086c65788b159c9559041420fa338e411d2.png  \n",
            "  inflating: lsun/train/church_outdoor/02927423e33a76f74d30cd6d36b21e2ab6c5b79e.png  \n",
            "  inflating: lsun/train/church_outdoor/02936145e89bab97ed2894098bb54a72a945fb2e.png  \n",
            "  inflating: lsun/train/church_outdoor/029394600da2163545cd9b1fd0fbfafb206d62a3.png  \n",
            "  inflating: lsun/train/church_outdoor/0294385353c3001cae0571ce6cddb884731b31d0.png  \n",
            "  inflating: lsun/train/church_outdoor/0298624026658fa1900d03da2ded41103e3897d4.png  \n",
            "  inflating: lsun/train/church_outdoor/03035285eee19045a3166b7a7aecddf24d6c9952.png  \n",
            "  inflating: lsun/train/church_outdoor/03041540e294ebf89f5fb7953c6bc2bfb863d19b.png  \n",
            "  inflating: lsun/train/church_outdoor/03087593799319364ad5b4807c820662c3cd5c56.png  \n",
            "  inflating: lsun/train/church_outdoor/03095094f7262704a98a8ba08e79347e0ddb1d52.png  \n",
            "  inflating: lsun/train/church_outdoor/03159346054fc7af17e55538cd84163b0a2902f4.png  \n",
            "  inflating: lsun/train/church_outdoor/03217203ebf7d2c93433f9146395191b85e36e28.png  \n",
            "  inflating: lsun/train/church_outdoor/032240680d5c8ea3460e7e45b213fd9063a96226.png  \n",
            "  inflating: lsun/train/church_outdoor/0326518762c63d6b9ed37331ea0894430e8f01ef.png  \n",
            "  inflating: lsun/train/church_outdoor/03271270a13993bbb0e2ef2f9f72b5c198179a9c.png  \n",
            "  inflating: lsun/train/church_outdoor/0331267291058735131f35020579f94d4549c7cf.png  \n",
            "  inflating: lsun/train/church_outdoor/03343250a740f81a6afe181f243815551f8f8935.png  \n",
            "  inflating: lsun/train/church_outdoor/03356035462c640d40f1a3156739c1219044cbf2.png  \n",
            "  inflating: lsun/train/church_outdoor/0337592777e31d864b0b0ab01d96e96fd13b447c.png  \n",
            "  inflating: lsun/train/church_outdoor/03377803dc68f321b698547e46b2d5f9959947a5.png  \n",
            "  inflating: lsun/train/church_outdoor/034004430d834c08fc0f2fa94d6e4c18cbc7ea57.png  \n",
            "  inflating: lsun/train/church_outdoor/0343661018e5bfa11f83c852be37146b34523847.png  \n",
            "  inflating: lsun/train/church_outdoor/034824620df22e5d54f0e0a91b2c09ad4e4ac7de.png  \n",
            "  inflating: lsun/train/church_outdoor/034888645371f0aa34b47d5587e9a040a3a099e3.png  \n",
            "  inflating: lsun/train/church_outdoor/035910977244044256b90bf9283103d2fe778e4c.png  \n",
            "  inflating: lsun/train/church_outdoor/03607166d08a24fac78967c68036e542f48f484d.png  \n",
            "  inflating: lsun/train/church_outdoor/03664027e805c9fcf394becc89178326f96669e0.png  \n",
            "  inflating: lsun/train/church_outdoor/036741824f3cda9f38ad4462c3320086ea6b0f61.png  \n",
            "  inflating: lsun/train/church_outdoor/03824428302ad0efeefd65340643366602434cc2.png  \n",
            "  inflating: lsun/train/church_outdoor/03909856fdc3969c5958f2d8fa0ce04d5a762914.png  \n",
            "  inflating: lsun/train/church_outdoor/039233293e4bf7e3026dddbfd9880b23152b0677.png  \n",
            "  inflating: lsun/train/church_outdoor/03950916943aa24a7204c4d5cdd6a1978a82779b.png  \n",
            "  inflating: lsun/train/church_outdoor/03974148859ff9cbe7d420541eef045d6e3dd4b1.png  \n",
            "  inflating: lsun/train/church_outdoor/03977170355d3e3a945ac6d73c5d545e69c193bd.png  \n",
            "  inflating: lsun/train/church_outdoor/03986400e7f5818d2ff24dab2966c2065abcdeea.png  \n",
            "   creating: lsun/train/classroom/\n",
            "  inflating: lsun/train/classroom/00036897431b5fa444bfe2d7d50519db616dd0ee.png  \n",
            "  inflating: lsun/train/classroom/002163551d467cd2604e1f490b4f6d62a7f7ca72.png  \n",
            "  inflating: lsun/train/classroom/002624574ed7e566c6464bf4eb1c48625086c5f5.png  \n",
            "  inflating: lsun/train/classroom/0029865847259a92946efe41d8d803deabbbbc75.png  \n",
            "  inflating: lsun/train/classroom/0030479421f65ec0d599010a886e01abf8017041.png  \n",
            "  inflating: lsun/train/classroom/0033041098c23bab7b32bc68f095b5b568253a9a.png  \n",
            "  inflating: lsun/train/classroom/0033207849a3e7063c0b00ca21cb7487df9d1da6.png  \n",
            "  inflating: lsun/train/classroom/004671432813725c935b9cabf47c437db15dbfaf.png  \n",
            "  inflating: lsun/train/classroom/004847322648e2be5f66d69096baa97180940c76.png  \n",
            "  inflating: lsun/train/classroom/004867506f96c573bbbef2bee5309996e58d5172.png  \n",
            "  inflating: lsun/train/classroom/0050342906d5c5e1e6132651ade353d667f9a4bf.png  \n",
            "  inflating: lsun/train/classroom/005067095c49f1aa5d252932bbe0872e4ba49ea1.png  \n",
            "  inflating: lsun/train/classroom/0051573547da947ad795405788198bb9e05d4876.png  \n",
            "  inflating: lsun/train/classroom/005897063690cb48c3576dfdd41b3097d4ebea96.png  \n",
            "  inflating: lsun/train/classroom/006319257369c2ff7ba989a33a63ab4961da36fc.png  \n",
            "  inflating: lsun/train/classroom/0065004009b95cb61422861b8016fa29cd04cb8a.png  \n",
            "  inflating: lsun/train/classroom/006627271f73cddfc87cd9b246f4212e156c2004.png  \n",
            "  inflating: lsun/train/classroom/006766045ace8c91cb66c763a1c846e269dbf7fd.png  \n",
            "  inflating: lsun/train/classroom/007953967fce0d6c03f34671772abdd9968a8a49.png  \n",
            "  inflating: lsun/train/classroom/008298645312a239735597cfd57c21298ac05b96.png  \n",
            "  inflating: lsun/train/classroom/00864692740c87640f90657da9fc51368efdcac9.png  \n",
            "  inflating: lsun/train/classroom/009581863d5fd4aab4ac0c1bb591d05111f61191.png  \n",
            "  inflating: lsun/train/classroom/009835759b04ca40b19433940e7381a84376d16e.png  \n",
            "  inflating: lsun/train/classroom/0099621273524be4bf040558fecea8062ba911e8.png  \n",
            "  inflating: lsun/train/classroom/0100519777ce315d161b912ba66aee48e101a420.png  \n",
            "  inflating: lsun/train/classroom/010180798fb55c8c3cc040c9b2c8ac055d433b93.png  \n",
            "  inflating: lsun/train/classroom/010361426f874ac3f2ea2f208601b8a5895e1533.png  \n",
            "  inflating: lsun/train/classroom/010536526663e9df014bc0f0ca1788c3853e21ea.png  \n",
            "  inflating: lsun/train/classroom/0109246047c927e6eae927b1c9101b845efd22ed.png  \n",
            "  inflating: lsun/train/classroom/01098904da8aac475180be59d791fef319e7c5b5.png  \n",
            "  inflating: lsun/train/classroom/0112015579a30d37987a5c747514445741f57c17.png  \n",
            "  inflating: lsun/train/classroom/011651607bf473191ff83142beafa12f793ba95f.png  \n",
            "  inflating: lsun/train/classroom/01273444a3ef911d6e84fce15e49a8d49c9bfeb1.png  \n",
            "  inflating: lsun/train/classroom/013168487b056a116cd9294b6c924bcec4f723e3.png  \n",
            "  inflating: lsun/train/classroom/013488988902c8f03dec589e9ffb3bce788ed9a4.png  \n",
            "  inflating: lsun/train/classroom/01357378d205ba20e7bd9b02157cbb902587b67c.png  \n",
            "  inflating: lsun/train/classroom/01365073df8874bfa5cf1fd50ce394d2c1063cb6.png  \n",
            "  inflating: lsun/train/classroom/01390457538f3388da3cf7d90308ea570845ed30.png  \n",
            "  inflating: lsun/train/classroom/014398886e3987edb3a46a4050bd3f0f69c56735.png  \n",
            "  inflating: lsun/train/classroom/014640615a6215e096137191ef40957c4cd62409.png  \n",
            "  inflating: lsun/train/classroom/01502301fc680e48afce3377aeb083895bee341f.png  \n",
            "  inflating: lsun/train/classroom/015327982f387b7fa478608a7596f08473b677b0.png  \n",
            "  inflating: lsun/train/classroom/015975393fd64033fe978bec6105d2c03d64bef5.png  \n",
            "  inflating: lsun/train/classroom/016953231fcc9ffc9ef01691425194011ba0e3ab.png  \n",
            "  inflating: lsun/train/classroom/0178937756674cae7e730d113cf224bc368e8a63.png  \n",
            "  inflating: lsun/train/classroom/0180908289b24185941e2a623f7af934b532091c.png  \n",
            "  inflating: lsun/train/classroom/018092458f8beedd060979244a9488303fd26582.png  \n",
            "  inflating: lsun/train/classroom/01856182e0886298f531fba4eb27b67aa87ac7e3.png  \n",
            "  inflating: lsun/train/classroom/018707029102fcaa505c2e782a65cf44e692e19f.png  \n",
            "  inflating: lsun/train/classroom/01923872a23959f605ae652367ee617baca6f8df.png  \n",
            "  inflating: lsun/train/classroom/01936395fb83dbcaf5642113e164714ee02f83f0.png  \n",
            "  inflating: lsun/train/classroom/01954098c8054c23fbe340ddb7da98c95a82cb9d.png  \n",
            "  inflating: lsun/train/classroom/01969138e5c6dbe5b08f3e876844abd518ffd0a4.png  \n",
            "  inflating: lsun/train/classroom/0202475597b29697bd48762e076ee2b52cedcae7.png  \n",
            "  inflating: lsun/train/classroom/0212404281d014e001e5c55aa1d014e25ccd0b82.png  \n",
            "  inflating: lsun/train/classroom/021545232d39706d143118b0d99d0b8e917b2c7d.png  \n",
            "  inflating: lsun/train/classroom/02176360c4ebbc721df37e80fe6b10238a97e220.png  \n",
            "  inflating: lsun/train/classroom/02183005a7b640c14d33a0c02c193b4c7dfc573c.png  \n",
            "  inflating: lsun/train/classroom/021851318dcca45aa57d83164b8d2f466f024052.png  \n",
            "  inflating: lsun/train/classroom/02191492ddc685a3bbc60317b38d2701f7704b17.png  \n",
            "  inflating: lsun/train/classroom/0220361933d7f99685df74a1f1825abbda3729e8.png  \n",
            "  inflating: lsun/train/classroom/02217305fff0fc5a8c374e2b1927d0e7fc97e8ee.png  \n",
            "  inflating: lsun/train/classroom/022444140d6a8bb029fa4d4f0cc808caa915a8b5.png  \n",
            "  inflating: lsun/train/classroom/02247033c3c155c3b48d5fa04d67cc2f3af38db6.png  \n",
            "  inflating: lsun/train/classroom/022572899aeba7f8cb890bf77f94b1db7212621e.png  \n",
            "  inflating: lsun/train/classroom/02304769e5e7c30e4707fd2ef54217d6723f5f37.png  \n",
            "  inflating: lsun/train/classroom/02316329c16619a08179afcaffc983170b642798.png  \n",
            "  inflating: lsun/train/classroom/02356780f9a1fc08dc6794ed0ba4537d7dfefc06.png  \n",
            "  inflating: lsun/train/classroom/02378588853f42425c1c07863f0791b1182ec7e6.png  \n",
            "  inflating: lsun/train/classroom/0240153588afd7d4cd782b517f8863a5777b9c16.png  \n",
            "  inflating: lsun/train/classroom/0243841088272df60515f4d496a4138276efa204.png  \n",
            "  inflating: lsun/train/classroom/024663705c56a10f72c79894a251a1c8656a46bf.png  \n",
            "  inflating: lsun/train/classroom/02469629451fa8ea631505258d23324629c149fe.png  \n",
            "  inflating: lsun/train/classroom/0247636369a9f0937509cd1ab92a065b76457390.png  \n",
            "  inflating: lsun/train/classroom/0248544073e81e718aeaa36b540051ca8fb5cbfc.png  \n",
            "  inflating: lsun/train/classroom/02494754d578179c259ddb345d13b06ed643ed79.png  \n",
            "  inflating: lsun/train/classroom/025046689417551c228820cf386e178d1415072f.png  \n",
            "  inflating: lsun/train/classroom/02548674f7c00d6434e9f0871d5013cc165f2bc9.png  \n",
            "  inflating: lsun/train/classroom/0255316173fc9954ed59e4638eb6fd1bab10c974.png  \n",
            "  inflating: lsun/train/classroom/0257862466f493c5ef00c2f9048cac097734ac2c.png  \n",
            "  inflating: lsun/train/classroom/02624099695527237ec7ce4f0a067f85ad528887.png  \n",
            "  inflating: lsun/train/classroom/02636176a6635fccdb818114647bd142aac072cf.png  \n",
            "  inflating: lsun/train/classroom/02652579672759f8399dcf0a97ef42e0c36d4fef.png  \n",
            "  inflating: lsun/train/classroom/026734386d4c31db3fbc324b3ee6273bee4e4910.png  \n",
            "  inflating: lsun/train/classroom/027503551b2ebca32dcd4b78e4c30846c247cb97.png  \n",
            "  inflating: lsun/train/classroom/027565962e3ab5240145895621a9c968daf08ddb.png  \n",
            "  inflating: lsun/train/classroom/02768189b3dc135e5a5cbb55ec8e3a7d48d1bd21.png  \n",
            "  inflating: lsun/train/classroom/027718272ed1adf07be399b255a0491c34fded3a.png  \n",
            "  inflating: lsun/train/classroom/027775550a39e29327b84ace5eba04b724f2f298.png  \n",
            "  inflating: lsun/train/classroom/028269671b8a7f4febba8afc1e4a1bdcdb6e3b77.png  \n",
            "  inflating: lsun/train/classroom/0290314162bfd0d30f37891f6debd630d8217cfd.png  \n",
            "  inflating: lsun/train/classroom/029310048ae96d55f4cc9b2c172bc2c5c6de9e2c.png  \n",
            "  inflating: lsun/train/classroom/0293829810a3bf8b529d01c519d5ee77d3e5635e.png  \n",
            "  inflating: lsun/train/classroom/02945323593e523c598a423bec9f504eb32d972a.png  \n",
            "  inflating: lsun/train/classroom/02983345b78925f8595258fc35071b7c90f89547.png  \n",
            "  inflating: lsun/train/classroom/030228909df664944a7c61d29b8f3956e4d551c8.png  \n",
            "  inflating: lsun/train/classroom/03052394a0fc18d87f576444f841133ca39e41b0.png  \n",
            "  inflating: lsun/train/classroom/03064876392cd42f5ff2519d65e3c52d25d87d53.png  \n",
            "  inflating: lsun/train/classroom/0307825672c196d05e1d3440b6caffe855a66551.png  \n",
            "  inflating: lsun/train/classroom/0308071467fbe4c878de04144f589136ec0fba33.png  \n",
            "   creating: lsun/train/conference_room/\n",
            "  inflating: lsun/train/conference_room/000760959977604ea0b1f66a9a03f1fe25b32fe0.png  \n",
            "  inflating: lsun/train/conference_room/000812699681301acd18547edf3a0a3211fd3f2d.png  \n",
            "  inflating: lsun/train/conference_room/00108256547774ad479601944d81ed17ab0a4c98.png  \n",
            "  inflating: lsun/train/conference_room/0012013601f0e05453617e1eed1063d7240fff94.png  \n",
            "  inflating: lsun/train/conference_room/001306312675df76b2135250d845c401d3b1ad82.png  \n",
            "  inflating: lsun/train/conference_room/001774264fcbf9d53029a73508c3253a196778b4.png  \n",
            "  inflating: lsun/train/conference_room/0021869916851e9087d15c4feec32e9cee8b3bbb.png  \n",
            "  inflating: lsun/train/conference_room/0031181678c7b51d86d8169893d924ed67c3a4ec.png  \n",
            "  inflating: lsun/train/conference_room/003188372a43e7404beeb8a8df2146c7c30afa87.png  \n",
            "  inflating: lsun/train/conference_room/0034882673d3dcc244c616d297a387d5c279cca3.png  \n",
            "  inflating: lsun/train/conference_room/003956501a6c02bc633c9d0ea6d011193ad02d3a.png  \n",
            "  inflating: lsun/train/conference_room/0042962129b42b20f504b2dff8c95f7feb8eae0e.png  \n",
            "  inflating: lsun/train/conference_room/00438332884c0f85dd9cb11242e63979a7d0172a.png  \n",
            "  inflating: lsun/train/conference_room/004420672d4d6fa026c383eea532ed344f05f4d7.png  \n",
            "  inflating: lsun/train/conference_room/004610438a2a08e727e77c11f50d6f3985b5c414.png  \n",
            "  inflating: lsun/train/conference_room/005169829690fd0b4611f22f7ba5c3ad1a08963e.png  \n",
            "  inflating: lsun/train/conference_room/005487862f4ed292852be9538a8c6cb7eb1db7da.png  \n",
            "  inflating: lsun/train/conference_room/00580522309b66d702aaf4743b4a545a7ad5e9ae.png  \n",
            "  inflating: lsun/train/conference_room/006013764af1c1c755b423d04514a3b8033c7975.png  \n",
            "  inflating: lsun/train/conference_room/00733360900e20d210226554e2d504a631527d8e.png  \n",
            "  inflating: lsun/train/conference_room/007339570be80b6ac03501435506c9a993b31de9.png  \n",
            "  inflating: lsun/train/conference_room/007918492a12165be23cef55ab6e5b3345aef841.png  \n",
            "  inflating: lsun/train/conference_room/0082414179fdd33e8fb16a67359bc6fbe75a9b0a.png  \n",
            "  inflating: lsun/train/conference_room/0084772839b604dfd365f0c5039bc0600cd3bf3f.png  \n",
            "  inflating: lsun/train/conference_room/008514962a2bfb8c2c52d62de345d4ae69cd0694.png  \n",
            "  inflating: lsun/train/conference_room/00900706135a40b3e65a8250f40c97bebb8d47aa.png  \n",
            "  inflating: lsun/train/conference_room/0090464028569344f8e4bb2f5368e8a92e6c8ad6.png  \n",
            "  inflating: lsun/train/conference_room/0098181715d37c18c7bfdea69ef88bcf56619c84.png  \n",
            "  inflating: lsun/train/conference_room/009939542d02beea1495de1b6f068d233dca1a7f.png  \n",
            "  inflating: lsun/train/conference_room/01036503027d0bd46070ee56eed47579fa9cced2.png  \n",
            "  inflating: lsun/train/conference_room/010482289c11bdad4d2716fbb37677290e5b9d7a.png  \n",
            "  inflating: lsun/train/conference_room/010594524dec3582165554d8561d2f94cf5bb297.png  \n",
            "  inflating: lsun/train/conference_room/01100828d9f303e446f0b03619b065f06711146b.png  \n",
            "  inflating: lsun/train/conference_room/0112506684b3301e91421b9d265c7877786e697e.png  \n",
            "  inflating: lsun/train/conference_room/01157242f40d08b1b43dbed61314f3dff090ce26.png  \n",
            "  inflating: lsun/train/conference_room/011705692fda0729382ebe6948fd5ed1111683b0.png  \n",
            "  inflating: lsun/train/conference_room/01196077c8699f1db5934515efa8790784438f59.png  \n",
            "  inflating: lsun/train/conference_room/01201886f43780d7795ea0e8c7176423eb5572bc.png  \n",
            "  inflating: lsun/train/conference_room/0120470029ee2af1aae7519d8b2ff07a59002da6.png  \n",
            "  inflating: lsun/train/conference_room/01219039f98768331c573a4a1f5bf2acbbe6020b.png  \n",
            "  inflating: lsun/train/conference_room/012196511198a1ba5529c78f81ff6d29ef8604fe.png  \n",
            "  inflating: lsun/train/conference_room/0122979407ad5ea93c660166b0d7bc5a2a15c298.png  \n",
            "  inflating: lsun/train/conference_room/0123070908d0eccfd1853a5d503711b4b0614bb2.png  \n",
            "  inflating: lsun/train/conference_room/0126020616cf4dcaef3d01a5a8d4441a3cfd64a6.png  \n",
            "  inflating: lsun/train/conference_room/01263672817320c756442b8d91c93a16c6302b4f.png  \n",
            "  inflating: lsun/train/conference_room/0126802682f66649efa34776590b01c52abf0061.png  \n",
            "  inflating: lsun/train/conference_room/01279842312a759af3bff5ec190a2f3b4a6296a6.png  \n",
            "  inflating: lsun/train/conference_room/013189876748df492f8f8927f84f0d0612b30840.png  \n",
            "  inflating: lsun/train/conference_room/01319957d4911d3c06a7dc45c523ad3174d26512.png  \n",
            "  inflating: lsun/train/conference_room/01346805863342ed607de78b4509b36235317b1d.png  \n",
            "  inflating: lsun/train/conference_room/01349015248c425214d105a658be4ea3ffe02e29.png  \n",
            "  inflating: lsun/train/conference_room/0135540999f23cb25c12e34fdb96d4c7886d05e3.png  \n",
            "  inflating: lsun/train/conference_room/0135952067cee61fcf2887f693ce69e234110864.png  \n",
            "  inflating: lsun/train/conference_room/01384008740f17cb83e4be45b70bf5f8f58e1e97.png  \n",
            "  inflating: lsun/train/conference_room/0140784570080bb3f423be59443a211d7f663603.png  \n",
            "  inflating: lsun/train/conference_room/01447416783f673628241d023cbf09101d592a89.png  \n",
            "  inflating: lsun/train/conference_room/01449705bb27c4cf3840cd7c1fb72f58c36b275a.png  \n",
            "  inflating: lsun/train/conference_room/0146541235c244700382ef2942e424bbd5bc7f25.png  \n",
            "  inflating: lsun/train/conference_room/014754140738ef96d4d083a80592d5b8b7c8d452.png  \n",
            "  inflating: lsun/train/conference_room/01498387fb0309a5a2e3b5f0a31a17d8ea020ee3.png  \n",
            "  inflating: lsun/train/conference_room/01560346c06809f54bf1d7c18889fc27b234deff.png  \n",
            "  inflating: lsun/train/conference_room/01567609f09554e5c86d829a6f3227c46174cdc1.png  \n",
            "  inflating: lsun/train/conference_room/01602771f273914c7d939269bc7dca4c71b249a1.png  \n",
            "  inflating: lsun/train/conference_room/01627810098ef5403ef96200ce9b7c375c93d6ba.png  \n",
            "  inflating: lsun/train/conference_room/016703851d30827fdf5be2dd62f5a0744cf55182.png  \n",
            "  inflating: lsun/train/conference_room/01682282525d3aa5f366a7927b165769906d0617.png  \n",
            "  inflating: lsun/train/conference_room/01716964af6e534a200bee56c76e4dd07e045c52.png  \n",
            "  inflating: lsun/train/conference_room/01722409fe2a039cb1381e6e382e674655263456.png  \n",
            "  inflating: lsun/train/conference_room/017530829765748fe41cf91964de99718e092fe5.png  \n",
            "  inflating: lsun/train/conference_room/01792158d90ac30f9b027a14537837da9593fc7d.png  \n",
            "  inflating: lsun/train/conference_room/01818241dd1ceead727ed3784cf524a77f772502.png  \n",
            "  inflating: lsun/train/conference_room/01826136ab70f311b7e5de5c19a4b1cfc99d88b5.png  \n",
            "  inflating: lsun/train/conference_room/018359193fed29ff441529b70bf72bba15e43a0c.png  \n",
            "  inflating: lsun/train/conference_room/018491783a2ccaadd238dc7e3c1b688578dcb4c0.png  \n",
            "  inflating: lsun/train/conference_room/0185668019c955069bdbefd00ff8184249095650.png  \n",
            "  inflating: lsun/train/conference_room/018665166f93bbb6a613aa07d698fb5235d97b4b.png  \n",
            "  inflating: lsun/train/conference_room/0190448799b4a0dcd22ee89c2e846989112b6060.png  \n",
            "  inflating: lsun/train/conference_room/019104439bbb9fe55f18aadab9cf9ddbb2799a0c.png  \n",
            "  inflating: lsun/train/conference_room/0195086468bb82773153ffaeb676c78703cfcedf.png  \n",
            "  inflating: lsun/train/conference_room/02042626b3aa39e08798c67afb267762fe3247df.png  \n",
            "  inflating: lsun/train/conference_room/0204317453fd7bd6ac890e265fb9600f6729c998.png  \n",
            "  inflating: lsun/train/conference_room/0207379550c77374ee20857c4d996a17c79df916.png  \n",
            "  inflating: lsun/train/conference_room/0208530806b14943b3928265785165639ff2484d.png  \n",
            "  inflating: lsun/train/conference_room/020870490694f6a14c514a3ec8b4fa4522617f27.png  \n",
            "  inflating: lsun/train/conference_room/020993229cf238133555f8fa4e77a12e121f6b4e.png  \n",
            "  inflating: lsun/train/conference_room/021364117c2064eff1ea866be5408c9750126d8c.png  \n",
            "  inflating: lsun/train/conference_room/02158371a06def0fcd0adac3f4d299b031a52900.png  \n",
            "  inflating: lsun/train/conference_room/021755680a8dc250882996d91488f1b73ed8f44f.png  \n",
            "  inflating: lsun/train/conference_room/0219476399ed016720eaf68dd47456b23bae0ca4.png  \n",
            "  inflating: lsun/train/conference_room/0221180083d695a9a115dd1748a9c08156864bbc.png  \n",
            "  inflating: lsun/train/conference_room/02229461465683dc263a01494b4b662ed6cde749.png  \n",
            "  inflating: lsun/train/conference_room/022325637228ecdfd101d10178bc76c61639cb0b.png  \n",
            "  inflating: lsun/train/conference_room/02234471f7ec431999fa5b236065099ccb96c1e0.png  \n",
            "  inflating: lsun/train/conference_room/022351335c8f9d39f1dfc559ae11a2f473ee14d0.png  \n",
            "  inflating: lsun/train/conference_room/022383837d27cc2d68c59ac4f8d47df9674fc67e.png  \n",
            "  inflating: lsun/train/conference_room/022510023c8dc0cc4ef1a328240ee84de76999a1.png  \n",
            "  inflating: lsun/train/conference_room/022635661baeb71d8a7a4a1672b292ca92f24c7f.png  \n",
            "  inflating: lsun/train/conference_room/023057447925434b22d479e22bdefab7d8a08970.png  \n",
            "  inflating: lsun/train/conference_room/02313507e2b5ceecbf2b05cd67706f72f8ac5efe.png  \n",
            "  inflating: lsun/train/conference_room/023227263ea4d18add785f433a611906aa1f0295.png  \n",
            "   creating: lsun/valid/\n",
            "  inflating: lsun/valid/.DS_Store    \n",
            "   creating: __MACOSX/lsun/valid/\n",
            "  inflating: __MACOSX/lsun/valid/._.DS_Store  \n",
            "   creating: lsun/valid/church_outdoor/\n",
            "  inflating: lsun/valid/church_outdoor/0001b23b9c40658359c016b816ab80590b4ee5dd.png  \n",
            "  inflating: lsun/valid/church_outdoor/00eab57b78bfe262a561a6b8db698cca1f1e5958.png  \n",
            "  inflating: lsun/valid/church_outdoor/00eaf0ecb0294fcff87c5007815e230d749d6a7e.png  \n",
            "  inflating: lsun/valid/church_outdoor/00eaffe5b6170837198391fe4484862d2bcca75b.png  \n",
            "  inflating: lsun/valid/church_outdoor/00ecacf68382f00c1f7be0b4a1457ee78133516c.png  \n",
            "  inflating: lsun/valid/church_outdoor/00ed638ee099c628218de5a90843a5a4c0240e1b.png  \n",
            "  inflating: lsun/valid/church_outdoor/00ed887ed763057b63cb9b1a6c0f6dbefb6bd9f2.png  \n",
            "  inflating: lsun/valid/church_outdoor/00edc2d8bcb0e113b7dc1bb95c275b011ea3243f.png  \n",
            "  inflating: lsun/valid/church_outdoor/00edfa0ae8f54974a0a0c9e4b6b6f99304d4d415.png  \n",
            "  inflating: lsun/valid/church_outdoor/00ee76bbb8d89df0d395b6eb8aea090b621812d4.png  \n",
            "  inflating: lsun/valid/church_outdoor/00ee92d2c7921a3340d75d179ba75c1972649604.png  \n",
            "  inflating: lsun/valid/church_outdoor/00eeccd7aaf7d50fb9edfc4a3f1e2a0584843c44.png  \n",
            "  inflating: lsun/valid/church_outdoor/00ef8f6262cc0d75bb35c7a7aada8de9d4c97992.png  \n",
            "  inflating: lsun/valid/church_outdoor/00f1fbf75767818c8d8fc8e3eaaa7c532b2087a0.png  \n",
            "  inflating: lsun/valid/church_outdoor/00f283097c08ef367b2d7462b6d30a690686bc69.png  \n",
            "  inflating: lsun/valid/church_outdoor/00f2b6047fff6e8af3fb46dbd292a5bddade6dcb.png  \n",
            "  inflating: lsun/valid/church_outdoor/00f335bf12d6a626ea14b5757188065ffbe2e381.png  \n",
            "  inflating: lsun/valid/church_outdoor/00f33cf8c77940c81d5585ee4ec0b1dcd1f5e0a5.png  \n",
            "  inflating: lsun/valid/church_outdoor/00f36e9a4957492ec93384eceb7f71328222eef9.png  \n",
            "  inflating: lsun/valid/church_outdoor/00f4f583d2ca2a63d9e58c41a85e3d1725cb3472.png  \n",
            "  inflating: lsun/valid/church_outdoor/00f526bdb5580542745795091c648686c388b135.png  \n",
            "  inflating: lsun/valid/church_outdoor/00f54ffa08429febfbb4afcc3acf64bb29882eaa.png  \n",
            "  inflating: lsun/valid/church_outdoor/00f6320ac2f14eba1ded10f6038373e1e4cd05eb.png  \n",
            "  inflating: lsun/valid/church_outdoor/00f6a1bc658d2a3126a8733a4c06c937d8b73971.png  \n",
            "  inflating: lsun/valid/church_outdoor/00f7051639b5441ddcfa3f941ed4b5794ee5b5af.png  \n",
            "  inflating: lsun/valid/church_outdoor/00f73be1024f624aab3a04366ae635fadaa59360.png  \n",
            "  inflating: lsun/valid/church_outdoor/00f76bbb95815b44515aef99052e4945d501e2d8.png  \n",
            "  inflating: lsun/valid/church_outdoor/00f79c7abadd2f55f4ef41bd7bba75ce2beb33ae.png  \n",
            "  inflating: lsun/valid/church_outdoor/00f8a425f6c0d26217ab59825b5e0bbe429f17d0.png  \n",
            "  inflating: lsun/valid/church_outdoor/00f91d358e6f1a5ac15bda5a6666ed1f1723063c.png  \n",
            "  inflating: lsun/valid/church_outdoor/00f96f1c4ba5a6e4aed987b0c8d3223d421b094a.png  \n",
            "  inflating: lsun/valid/church_outdoor/00f9d7829f5a528c065f6b34e11a71867b65ec94.png  \n",
            "  inflating: lsun/valid/church_outdoor/00fc91debb0903d4c04c5b42e26d7f1bf1eaf62d.png  \n",
            "  inflating: lsun/valid/church_outdoor/00fcaccd682d2b4f6266c6a293296486bcb0f37e.png  \n",
            "  inflating: lsun/valid/church_outdoor/00fcc420919c96c57a40b8588125ddf621369ee3.png  \n",
            "  inflating: lsun/valid/church_outdoor/00fd0727d53af287713440494fc4066b569ddf81.png  \n",
            "  inflating: lsun/valid/church_outdoor/00ff139fcfd6634aa95f390bc88c4c4a6808afcb.png  \n",
            "  inflating: lsun/valid/church_outdoor/00ff156ca87698016feda3ab3de9c794481328cd.png  \n",
            "  inflating: lsun/valid/church_outdoor/00ff4550004c01bfbdb7f9df158c4a043eecc876.png  \n",
            "  inflating: lsun/valid/church_outdoor/00ff7af292564f0364f4906d983865e314fe3eb7.png  \n",
            "   creating: lsun/valid/classroom/\n",
            "  inflating: lsun/valid/classroom/00d1817410f5b0f334254bbdf39bafd4a8ba235e.png  \n",
            "  inflating: lsun/valid/classroom/00d3385abb3c5c736811b650a108ca1986097b12.png  \n",
            "  inflating: lsun/valid/classroom/00d6776be71f39daf10fa3dc800cd79ce59b5158.png  \n",
            "  inflating: lsun/valid/classroom/00d703f011c9bbc9036f507163c0cae27e31427e.png  \n",
            "  inflating: lsun/valid/classroom/00d71087d53279b5ff0612d6d8a86228239a4c77.png  \n",
            "  inflating: lsun/valid/classroom/00d75caf791b1296d672625ea514e4167bc15df0.png  \n",
            "  inflating: lsun/valid/classroom/00d82afbc0aa097f7de0c2da0e0fb284e03de98d.png  \n",
            "  inflating: lsun/valid/classroom/00d89c11157b01bfe16f2f42f97babb913eb6da6.png  \n",
            "  inflating: lsun/valid/classroom/00d97fc077590d4a01b0a353ed4d48f7938f0700.png  \n",
            "  inflating: lsun/valid/classroom/00d9ae0ab9090307987ab507abcb5a8814519e8f.png  \n",
            "  inflating: lsun/valid/classroom/00d9f537b25015ceca89ba3e224e07f3ac421cdc.png  \n",
            "  inflating: lsun/valid/classroom/00da3a394ed99a634a77b4452fe1e4cacdf22c82.png  \n",
            "  inflating: lsun/valid/classroom/00db4dccd5f10aacf5706c0a28c55b3586fcca34.png  \n",
            "  inflating: lsun/valid/classroom/00db6bc1a9ddbad0c79156005ef73c44c3189efa.png  \n",
            "  inflating: lsun/valid/classroom/00dbf4a8770725495aea6f210dff24aaffee1dd7.png  \n",
            "  inflating: lsun/valid/classroom/00dc646754275b571e3227e72ed77e4dc0849612.png  \n",
            "  inflating: lsun/valid/classroom/00dcf065650eb5324330af35f4c9815271f23e80.png  \n",
            "  inflating: lsun/valid/classroom/00dd3e59355cd44d05d2e053b744a90691b311fc.png  \n",
            "  inflating: lsun/valid/classroom/00ddb4d7ed02774b9c2694d136113d66f8aed3a5.png  \n",
            "  inflating: lsun/valid/classroom/00de67ec7e3e0f70b050f5ed7b9afe9e8fb88904.png  \n",
            "  inflating: lsun/valid/classroom/00de9a9ff01015316792439b2566dd1a86bc8d94.png  \n",
            "  inflating: lsun/valid/classroom/00dec0c064744a64db95d5d5db2ad04feb3884f5.png  \n",
            "  inflating: lsun/valid/classroom/00dedf38d98e8fb92f28d19a13cb44499d6946ce.png  \n",
            "  inflating: lsun/valid/classroom/00e0d12b8b7c2529abbae19847fcafd8857b8408.png  \n",
            "  inflating: lsun/valid/classroom/00e1aa37ebc493e4960e9ca6cecc54544d5b9ded.png  \n",
            "  inflating: lsun/valid/classroom/00e1b897bf761c69471d05bca76d9cb3337daa29.png  \n",
            "  inflating: lsun/valid/classroom/00e25a5e07aaa6cf0575b4305568958e03fecd94.png  \n",
            "  inflating: lsun/valid/classroom/00e2e9aac8e7346abc37678f844cadf43f4a8398.png  \n",
            "  inflating: lsun/valid/classroom/00e3a6ea5216c4ce50ced81c56829c6abbf96e35.png  \n",
            "  inflating: lsun/valid/classroom/00e3b60d2bc54042a5b95c38f57a4f5ba51b971c.png  \n",
            "  inflating: lsun/valid/classroom/00e3f3c708eb65020afa198a1cdc0d017c8ccd1a.png  \n",
            "  inflating: lsun/valid/classroom/00e4bb3fca9254d14837fb9514e740c65b132f8f.png  \n",
            "  inflating: lsun/valid/classroom/00e4c6a56e1d3deca792c025dd162622606fe55e.png  \n",
            "  inflating: lsun/valid/classroom/00e6e281ab05b41997ac959dfb7ef24708c291cb.png  \n",
            "  inflating: lsun/valid/classroom/00e7d5baa53f263261d42fe246a06e8e02164077.png  \n",
            "  inflating: lsun/valid/classroom/00e8a903e8ffeeb14bb5e7c44cb67c40bb946e99.png  \n",
            "  inflating: lsun/valid/classroom/00e8bf292071c2a1f036c73aa25a6a4b1bcc7456.png  \n",
            "  inflating: lsun/valid/classroom/00e8f5ac38a4c53a3e53129c17306d3552ddf3b5.png  \n",
            "  inflating: lsun/valid/classroom/00e9ab5b8291a438d148840919f0dfb7657268e3.png  \n",
            "  inflating: lsun/valid/classroom/00e9b6994d7de44576ac1bd9d8b0a9ca09eb4ea7.png  \n",
            "   creating: lsun/valid/conference_room/\n",
            "  inflating: lsun/valid/conference_room/00c00d514593927b977f56faff9cfee38cae78e0.png  \n",
            "  inflating: lsun/valid/conference_room/00c0200f2572118f6f4c0b1986d7704cfdc5170c.png  \n",
            "  inflating: lsun/valid/conference_room/00c0208bf53867d445c9d88d70e43523de31bb80.png  \n",
            "  inflating: lsun/valid/conference_room/00c05f6877948065dd1c57d6161a412be515a4fa.png  \n",
            "  inflating: lsun/valid/conference_room/00c07604b19cf5018ff807c3b61afa3f2b568ba8.png  \n",
            "  inflating: lsun/valid/conference_room/00c0bfabdf464542b6b22ef36c7cb22d6065da3a.png  \n",
            "  inflating: lsun/valid/conference_room/00c0e2d84b57a5b5a09ac8cb9169a2266228faa6.png  \n",
            "  inflating: lsun/valid/conference_room/00c13d164e4e4337277a2debc946ff1b18a05799.png  \n",
            "  inflating: lsun/valid/conference_room/00c191aca5db6c25fde6aa472335d9df65cc391f.png  \n",
            "  inflating: lsun/valid/conference_room/00c19a53610cbe8d4016daa98a6122893c5fa9e9.png  \n",
            "  inflating: lsun/valid/conference_room/00c1c37f930a7a6211dde5e2be9fc53c7c4e5c20.png  \n",
            "  inflating: lsun/valid/conference_room/00c200e3ccb5d5afc870a430f7ad7ce24e73f029.png  \n",
            "  inflating: lsun/valid/conference_room/00c2429310b0b6e024979b758daf2c7f40fb82b2.png  \n",
            "  inflating: lsun/valid/conference_room/00c2825600514aa444d1f0d1884e02326c7ffd3d.png  \n",
            "  inflating: lsun/valid/conference_room/00c2c61b44b17db971816a64836c77bfca91f9b2.png  \n",
            "  inflating: lsun/valid/conference_room/00c2f9a972211a78ded0dc06a256bc1378b7f489.png  \n",
            "  inflating: lsun/valid/conference_room/00c3a08cf4a7093f8abb406a49374c8095cc1be2.png  \n",
            "  inflating: lsun/valid/conference_room/00c3a19caeadeca0c622db046d49599f2640a750.png  \n",
            "  inflating: lsun/valid/conference_room/00c3c715150931fd43806d18273a05189a76f2dc.png  \n",
            "  inflating: lsun/valid/conference_room/00c43a34f7f0c2cbe1c74a08bd56d63056f88a59.png  \n",
            "  inflating: lsun/valid/conference_room/00c597e804e5ed45a604ce8b35099fff22ee2362.png  \n",
            "  inflating: lsun/valid/conference_room/00c5c5891436c8d458c25a9111fc7cda91522294.png  \n",
            "  inflating: lsun/valid/conference_room/00c5e7a62fce10b1f79bd8332e34ded54ef9b0c7.png  \n",
            "  inflating: lsun/valid/conference_room/00c6adc3849dc372d6f0360931d8b8f3e75b4fc4.png  \n",
            "  inflating: lsun/valid/conference_room/00c738b552c208ba983a4b46f1b8d10127df3ca8.png  \n",
            "  inflating: lsun/valid/conference_room/00c76caa98e2162582f528030a07a899581b2a4a.png  \n",
            "  inflating: lsun/valid/conference_room/00c779a7b108c9c324628668a925069dee55a3b4.png  \n",
            "  inflating: lsun/valid/conference_room/00c7a670e0782b5bfc43d7f273b7f50b54b74281.png  \n",
            "  inflating: lsun/valid/conference_room/00c80180a6cab7183f22dab5fa64fe07efefdeaf.png  \n",
            "  inflating: lsun/valid/conference_room/00c821e04d1484750272bbc290fb4dd7b6cffcf4.png  \n",
            "  inflating: lsun/valid/conference_room/00c89175dc4fd7cd9e164492f49ef2d54d098272.png  \n",
            "  inflating: lsun/valid/conference_room/00c89aee09f9d116b3e6818d2e3ce8a9b4a702d9.png  \n",
            "  inflating: lsun/valid/conference_room/00c8c2536b9b2328377eadf64f8f2054bd5ae9f1.png  \n",
            "  inflating: lsun/valid/conference_room/00c8c9f6bafd85a3f017abe4bc21b51589eb24d6.png  \n",
            "  inflating: lsun/valid/conference_room/00c92de5cd66dcf73c03329f90a1de763d97146c.png  \n",
            "  inflating: lsun/valid/conference_room/00c93c2deeddb54cbed4ab495a7a6b1856d39104.png  \n",
            "  inflating: lsun/valid/conference_room/00c9ca099da7714b229b7ccb6b890ab71ee99c42.png  \n",
            "  inflating: lsun/valid/conference_room/00ca876a8e43ecb90785aabab60c1a4e23720598.png  \n",
            "  inflating: lsun/valid/conference_room/00caa10b7c4fdb9f1235f49027a60fc520293344.png  \n",
            "  inflating: lsun/valid/conference_room/00cae1af6059defcfda5ecdf3f692020dd77e25d.png  \n"
          ],
          "name": "stdout"
        }
      ]
    },
    {
      "cell_type": "code",
      "metadata": {
        "id": "XBD3rja-BMI2",
        "colab_type": "code",
        "colab": {}
      },
      "source": [
        "# Save the directory locations for the training, validation and test sets\n",
        "\n",
        "train_dir = '/content/__MACOSX/lsun/train'\n",
        "valid_dir = '/content/__MACOSX/lsun/valid'\n",
        "test_dir = '/content/__MACOSX/lsun/test'"
      ],
      "execution_count": 0,
      "outputs": []
    },
    {
      "cell_type": "markdown",
      "metadata": {
        "id": "R9oxaTNhBMI6",
        "colab_type": "text"
      },
      "source": [
        "#### Create a data generator using the ImageDataGenerator class"
      ]
    },
    {
      "cell_type": "markdown",
      "metadata": {
        "id": "KXnFJSbqBMI7",
        "colab_type": "text"
      },
      "source": [
        "You should first write a function that creates an `ImageDataGenerator` object, which rescales the image pixel values by a factor of 1/255."
      ]
    },
    {
      "cell_type": "code",
      "metadata": {
        "id": "dKGB0DQaBMI8",
        "colab_type": "code",
        "colab": {}
      },
      "source": [
        "#### GRADED CELL ####\n",
        "\n",
        "# Complete the following function. \n",
        "# Make sure to not change the function name or arguments.\n",
        "\n",
        "def get_ImageDataGenerator():\n",
        "    \"\"\"\n",
        "    This function should return an instance of the ImageDataGenerator class.\n",
        "    This instance should be set up to rescale the data with the above scaling factor.\n",
        "    \"\"\"\n",
        "    datagen = tf.keras.preprocessing.image.ImageDataGenerator(rescale=1.0/255)\n",
        "    return datagen"
      ],
      "execution_count": 0,
      "outputs": []
    },
    {
      "cell_type": "code",
      "metadata": {
        "id": "aLHuOayyBMJA",
        "colab_type": "code",
        "colab": {}
      },
      "source": [
        "# Call the function to get an ImageDataGenerator as specified\n",
        "\n",
        "image_gen = get_ImageDataGenerator()"
      ],
      "execution_count": 0,
      "outputs": []
    },
    {
      "cell_type": "markdown",
      "metadata": {
        "id": "JMe8sG1LBMJE",
        "colab_type": "text"
      },
      "source": [
        "You should now write a function that returns a generator object that will yield batches of images and labels from the training and test set directories. The generators should:\n",
        "\n",
        "* Generate batches of size 20.\n",
        "* Resize the images to 64 x 64 x 3.\n",
        "* Return one-hot vectors for labels. These should be encoded as follows:\n",
        "    * `classroom` -> `[1., 0., 0.]`\n",
        "    * `conference_room` -> `[0., 1., 0.]`\n",
        "    * `church_outdoor` -> `[0., 0., 1.]`\n",
        "* Pass in an optional random `seed` for shuffling (this should be passed into the `flow_from_directory` method).\n",
        "\n",
        "**Hint:** you may need to refer to the [documentation](https://keras.io/preprocessing/image/#imagedatagenerator-class) for the `ImageDataGenerator`."
      ]
    },
    {
      "cell_type": "code",
      "metadata": {
        "id": "oj_6f_W_BMJF",
        "colab_type": "code",
        "colab": {}
      },
      "source": [
        "#### GRADED CELL ####\n",
        "\n",
        "# Complete the following function.\n",
        "# Make sure not to change the function name or arguments.\n",
        "\n",
        "def get_generator(image_data_generator, directory, seed=None):\n",
        "    \"\"\"\n",
        "    This function takes an ImageDataGenerator object in the first argument and a \n",
        "    directory path in the second argument.\n",
        "    It should use the ImageDataGenerator to return a generator object according \n",
        "    to the above specifications. \n",
        "    The seed argument should be passed to the flow_from_directory method.\n",
        "    \"\"\"\n",
        "    datagen = image_data_generator.flow_from_directory(directory, batch_size=20, seed=seed, target_size=(64, 64, 3), class_mode='categorical')\n",
        "    return datagen"
      ],
      "execution_count": 0,
      "outputs": []
    },
    {
      "cell_type": "code",
      "metadata": {
        "scrolled": true,
        "id": "NIKyJoXdBMJI",
        "colab_type": "code",
        "outputId": "c3663284-265e-477f-a5c9-6afa960b770f",
        "colab": {
          "base_uri": "https://localhost:8080/",
          "height": 53
        }
      },
      "source": [
        "# Run this cell to define training and validation generators\n",
        "\n",
        "train_generator = get_generator(image_gen, '/content/__MACOSX/lsun/train')\n",
        "valid_generator = get_generator(image_gen, valid_dir)"
      ],
      "execution_count": 0,
      "outputs": [
        {
          "output_type": "stream",
          "text": [
            "Found 0 images belonging to 0 classes.\n",
            "Found 0 images belonging to 0 classes.\n"
          ],
          "name": "stdout"
        }
      ]
    },
    {
      "cell_type": "markdown",
      "metadata": {
        "id": "MAXEIgk5BMJL",
        "colab_type": "text"
      },
      "source": [
        "We are using a small subset of the dataset for demonstrative purposes in this assignment."
      ]
    },
    {
      "cell_type": "markdown",
      "metadata": {
        "id": "_rEvycBKBMJM",
        "colab_type": "text"
      },
      "source": [
        "#### Display sample images and labels from the training set\n",
        "\n",
        "The following cell depends on your function `get_generator` to be implemented correctly. If it raises an error, go back and check the function specifications carefully."
      ]
    },
    {
      "cell_type": "code",
      "metadata": {
        "scrolled": false,
        "id": "Ij_H0PdqBMJN",
        "colab_type": "code",
        "colab": {}
      },
      "source": [
        "# Display a few images and labels from the training set\n",
        "\n",
        "batch = next(train_generator)\n",
        "batch_images = np.array(batch[0])\n",
        "batch_labels = np.array(batch[1])\n",
        "lsun_classes = ['classroom', 'conference_room', 'church_outdoor']\n",
        "\n",
        "plt.figure(figsize=(16,10))\n",
        "for i in range(20):\n",
        "    ax = plt.subplot(4, 5, i+1)\n",
        "    plt.imshow(batch_images[i])\n",
        "    plt.title(lsun_classes[np.where(batch_labels[i] == 1.)[0][0]])\n",
        "    plt.axis('off')"
      ],
      "execution_count": 0,
      "outputs": []
    },
    {
      "cell_type": "code",
      "metadata": {
        "id": "0cHM1h_qBMJR",
        "colab_type": "code",
        "colab": {}
      },
      "source": [
        "# Reset the training generator\n",
        "\n",
        "train_generator = get_generator(image_gen, train_dir)"
      ],
      "execution_count": 0,
      "outputs": []
    },
    {
      "cell_type": "markdown",
      "metadata": {
        "id": "aSqkTykSBMJU",
        "colab_type": "text"
      },
      "source": [
        "#### Build the neural network model\n",
        "\n",
        "You will now build and compile a convolutional neural network classifier. Using the functional API, build your model according to the following specifications:\n",
        "\n",
        "* The model should use the `input_shape` in the function argument to define the Input layer.\n",
        "* The first hidden layer should be a Conv2D layer with 8 filters, a 8x8 kernel size.\n",
        "* The second hidden layer should be a MaxPooling2D layer with a 2x2 pooling window size.\n",
        "* The third hidden layer should be a Conv2D layer with 4 filters, a 4x4 kernel size.\n",
        "* The fourth hidden layer should be a MaxPooling2D layer with a 2x2 pooling window size.\n",
        "* This should be followed by a Flatten layer, and then a Dense layer with 16 units and ReLU activation.\n",
        "* The final layer should be a Dense layer with 3 units and softmax activation.\n",
        "* All Conv2D layers should use `\"SAME\"` padding and a ReLU activation function.\n",
        "\n",
        "In total, the network should have 8 layers. The model should then be compiled with the Adam optimizer with learning rate 0.0005, categorical cross entropy loss, and categorical accuracy metric."
      ]
    },
    {
      "cell_type": "code",
      "metadata": {
        "id": "4CUM34kIBMJV",
        "colab_type": "code",
        "colab": {}
      },
      "source": [
        "#### GRADED CELL ####\n",
        "\n",
        "# Complete the following function.\n",
        "# Make sure not to change the function name or arguments.\n",
        "\n",
        "def get_model(input_shape):\n",
        "    \"\"\"\n",
        "    This function should build and compile a CNN model according to the above specification,\n",
        "    using the functional API. Your function should return the model.\n",
        "    \"\"\"\n",
        "    \n",
        "    "
      ],
      "execution_count": 0,
      "outputs": []
    },
    {
      "cell_type": "code",
      "metadata": {
        "id": "tf1oMdeXBMJY",
        "colab_type": "code",
        "colab": {}
      },
      "source": [
        "# Build and compile the model, print the model summary\n",
        "\n",
        "lsun_model = get_model((64, 64, 3))\n",
        "lsun_model.summary()"
      ],
      "execution_count": 0,
      "outputs": []
    },
    {
      "cell_type": "markdown",
      "metadata": {
        "id": "7aXlJUvSBMJb",
        "colab_type": "text"
      },
      "source": [
        "#### Train the neural network model\n",
        "\n",
        "You should now write a function to train the model for a specified number of epochs (specified in the `epochs` argument). The function takes a `model` argument, as well as `train_gen` and `valid_gen` arguments for the training and validation generators respectively, which you should use for training and validation data in the training run. You should also use the following callbacks:\n",
        "\n",
        "* An `EarlyStopping` callback that monitors the validation accuracy and has patience set to 10. \n",
        "* A `ReduceLROnPlateau` callback that monitors the validation loss and has the factor set to 0.5 and minimum learning set to 0.0001\n",
        "\n",
        "Your function should return the training history."
      ]
    },
    {
      "cell_type": "code",
      "metadata": {
        "scrolled": true,
        "id": "4G7xV6oDBMJc",
        "colab_type": "code",
        "colab": {}
      },
      "source": [
        "#### GRADED CELL ####\n",
        "\n",
        "# Complete the following function.\n",
        "# Make sure not to change the function name or arguments.\n",
        "\n",
        "def train_model(model, train_gen, valid_gen, epochs):\n",
        "    \"\"\"\n",
        "    This function should define the callback objects specified above, and then use the\n",
        "    train_gen and valid_gen generator object arguments to train the model for the (maximum) \n",
        "    number of epochs specified in the function argument, using the defined callbacks.\n",
        "    The function should return the training history.\n",
        "    \"\"\"\n",
        "    \n",
        "    "
      ],
      "execution_count": 0,
      "outputs": []
    },
    {
      "cell_type": "code",
      "metadata": {
        "scrolled": true,
        "id": "EYRGlRz9BMJf",
        "colab_type": "code",
        "colab": {}
      },
      "source": [
        "# Train the model for (maximum) 50 epochs\n",
        "\n",
        "history = train_model(lsun_model, train_generator, valid_generator, epochs=50)"
      ],
      "execution_count": 0,
      "outputs": []
    },
    {
      "cell_type": "markdown",
      "metadata": {
        "id": "8_YBlZ6NBMJj",
        "colab_type": "text"
      },
      "source": [
        "#### Plot the learning curves"
      ]
    },
    {
      "cell_type": "code",
      "metadata": {
        "id": "Y05rSC_MBMJk",
        "colab_type": "code",
        "colab": {}
      },
      "source": [
        "# Run this cell to plot accuracy vs epoch and loss vs epoch\n",
        "\n",
        "plt.figure(figsize=(15,5))\n",
        "plt.subplot(121)\n",
        "try:\n",
        "    plt.plot(history.history['accuracy'])\n",
        "    plt.plot(history.history['val_accuracy'])\n",
        "except KeyError:\n",
        "    plt.plot(history.history['acc'])\n",
        "    plt.plot(history.history['val_acc'])\n",
        "plt.title('Accuracy vs. epochs')\n",
        "plt.ylabel('Accuracy')\n",
        "plt.xlabel('Epoch')\n",
        "plt.legend(['Training', 'Validation'], loc='lower right')\n",
        "\n",
        "plt.subplot(122)\n",
        "plt.plot(history.history['loss'])\n",
        "plt.plot(history.history['val_loss'])\n",
        "plt.title('Loss vs. epochs')\n",
        "plt.ylabel('Loss')\n",
        "plt.xlabel('Epoch')\n",
        "plt.legend(['Training', 'Validation'], loc='upper right')\n",
        "plt.show() "
      ],
      "execution_count": 0,
      "outputs": []
    },
    {
      "cell_type": "markdown",
      "metadata": {
        "id": "hIrAEyVmBMJp",
        "colab_type": "text"
      },
      "source": [
        "You may notice overfitting in the above plots, through a growing discrepancy between the training and validation loss and accuracy. We will aim to mitigate this using data augmentation. Given our limited dataset, we may be able to improve the performance by applying random modifications to the images in the training data, effectively increasing the size of the dataset."
      ]
    },
    {
      "cell_type": "markdown",
      "metadata": {
        "id": "nEphR4WkBMJq",
        "colab_type": "text"
      },
      "source": [
        "#### Create a new data generator with data augmentation\n",
        "\n",
        "You should now write a function to create a new `ImageDataGenerator` object, which performs the following data preprocessing and augmentation:\n",
        "\n",
        "* Scales the image pixel values by a factor of 1/255.\n",
        "* Randomly rotates images by up to 30 degrees\n",
        "* Randomly alters the brightness (picks a brightness shift value) from the range (0.5, 1.5)\n",
        "* Randomly flips images horizontally\n",
        "\n",
        "Hint: you may need to refer to the [documentation](https://keras.io/preprocessing/image/#imagedatagenerator-class) for the `ImageDataGenerator`."
      ]
    },
    {
      "cell_type": "code",
      "metadata": {
        "id": "cZ2ETwXDBMJr",
        "colab_type": "code",
        "colab": {}
      },
      "source": [
        "#### GRADED CELL ####\n",
        "\n",
        "# Complete the following function. \n",
        "# Make sure to not change the function name or arguments.\n",
        "\n",
        "def get_ImageDataGenerator_augmented():\n",
        "    \"\"\"\n",
        "    This function should return an instance of the ImageDataGenerator class \n",
        "    with the above specifications.\n",
        "    \"\"\"\n",
        "    \n",
        "    "
      ],
      "execution_count": 0,
      "outputs": []
    },
    {
      "cell_type": "code",
      "metadata": {
        "id": "snXknJRjBMJu",
        "colab_type": "code",
        "colab": {}
      },
      "source": [
        "# Call the function to get an ImageDataGenerator as specified\n",
        "\n",
        "image_gen_aug = get_ImageDataGenerator_augmented()"
      ],
      "execution_count": 0,
      "outputs": []
    },
    {
      "cell_type": "code",
      "metadata": {
        "id": "PENbYJoIBMJw",
        "colab_type": "code",
        "colab": {}
      },
      "source": [
        "# Run this cell to define training and validation generators \n",
        "\n",
        "valid_generator_aug = get_generator(image_gen_aug, valid_dir)\n",
        "train_generator_aug = get_generator(image_gen_aug, train_dir, seed=10)"
      ],
      "execution_count": 0,
      "outputs": []
    },
    {
      "cell_type": "code",
      "metadata": {
        "id": "JkRcKm_lBMJz",
        "colab_type": "code",
        "colab": {}
      },
      "source": [
        "# Reset the original train_generator with the same random seed\n",
        "\n",
        "train_generator = get_generator(image_gen, train_dir, seed=10)"
      ],
      "execution_count": 0,
      "outputs": []
    },
    {
      "cell_type": "markdown",
      "metadata": {
        "id": "ldQ_alprBMJ1",
        "colab_type": "text"
      },
      "source": [
        "#### Display sample augmented images and labels from the training set\n",
        "\n",
        "The following cell depends on your function `get_generator` to be implemented correctly. If it raises an error, go back and check the function specifications carefully. \n",
        "\n",
        "The cell will display augmented and non-augmented images (and labels) from the training dataset, using the `train_generator_aug` and `train_generator` objects defined above (if the images do not correspond to each other, check you have implemented the `seed` argument correctly)."
      ]
    },
    {
      "cell_type": "code",
      "metadata": {
        "scrolled": false,
        "id": "T5zajdojBMJ2",
        "colab_type": "code",
        "colab": {}
      },
      "source": [
        "# Display a few images and labels from the non-augmented and augmented generators\n",
        "\n",
        "batch = next(train_generator)\n",
        "batch_images = np.array(batch[0])\n",
        "batch_labels = np.array(batch[1])\n",
        "\n",
        "aug_batch = next(train_generator_aug)\n",
        "aug_batch_images = np.array(aug_batch[0])\n",
        "aug_batch_labels = np.array(aug_batch[1])\n",
        "\n",
        "plt.figure(figsize=(16,5))\n",
        "plt.suptitle(\"Unaugmented images\", fontsize=16)\n",
        "for n, i in enumerate(np.arange(10)):\n",
        "    ax = plt.subplot(2, 5, n+1)\n",
        "    plt.imshow(batch_images[i])\n",
        "    plt.title(lsun_classes[np.where(batch_labels[i] == 1.)[0][0]])\n",
        "    plt.axis('off')\n",
        "plt.figure(figsize=(16,5))\n",
        "plt.suptitle(\"Augmented images\", fontsize=16)\n",
        "for n, i in enumerate(np.arange(10)):\n",
        "    ax = plt.subplot(2, 5, n+1)\n",
        "    plt.imshow(aug_batch_images[i])\n",
        "    plt.title(lsun_classes[np.where(aug_batch_labels[i] == 1.)[0][0]])\n",
        "    plt.axis('off')"
      ],
      "execution_count": 0,
      "outputs": []
    },
    {
      "cell_type": "code",
      "metadata": {
        "id": "kdkkcLSCBMJ5",
        "colab_type": "code",
        "colab": {}
      },
      "source": [
        "# Reset the augmented data generator\n",
        "\n",
        "train_generator_aug = get_generator(image_gen_aug, train_dir)"
      ],
      "execution_count": 0,
      "outputs": []
    },
    {
      "cell_type": "markdown",
      "metadata": {
        "id": "1aLlXBnpBMJ7",
        "colab_type": "text"
      },
      "source": [
        "#### Train a new model on the augmented dataset"
      ]
    },
    {
      "cell_type": "code",
      "metadata": {
        "id": "W-eB_k5OBMJ8",
        "colab_type": "code",
        "colab": {}
      },
      "source": [
        "# Build and compile a new model\n",
        "\n",
        "lsun_new_model = get_model((64, 64, 3))"
      ],
      "execution_count": 0,
      "outputs": []
    },
    {
      "cell_type": "code",
      "metadata": {
        "scrolled": true,
        "id": "XnBExHC9BMJ_",
        "colab_type": "code",
        "colab": {}
      },
      "source": [
        "# Train the model\n",
        "\n",
        "history_augmented = train_model(lsun_new_model, train_generator_aug, valid_generator_aug, epochs=50)"
      ],
      "execution_count": 0,
      "outputs": []
    },
    {
      "cell_type": "markdown",
      "metadata": {
        "id": "F1aQAV7gBMKB",
        "colab_type": "text"
      },
      "source": [
        "#### Plot the learning curves"
      ]
    },
    {
      "cell_type": "code",
      "metadata": {
        "scrolled": true,
        "id": "EU0NxiRTBMKC",
        "colab_type": "code",
        "colab": {}
      },
      "source": [
        "# Run this cell to plot accuracy vs epoch and loss vs epoch\n",
        "\n",
        "plt.figure(figsize=(15,5))\n",
        "plt.subplot(121)\n",
        "try:\n",
        "    plt.plot(history_augmented.history['accuracy'])\n",
        "    plt.plot(history_augmented.history['val_accuracy'])\n",
        "except KeyError:\n",
        "    plt.plot(history_augmented.history['acc'])\n",
        "    plt.plot(history_augmented.history['val_acc'])\n",
        "plt.title('Accuracy vs. epochs')\n",
        "plt.ylabel('Accuracy')\n",
        "plt.xlabel('Epoch')\n",
        "plt.legend(['Training', 'Validation'], loc='lower right')\n",
        "\n",
        "plt.subplot(122)\n",
        "plt.plot(history_augmented.history['loss'])\n",
        "plt.plot(history_augmented.history['val_loss'])\n",
        "plt.title('Loss vs. epochs')\n",
        "plt.ylabel('Loss')\n",
        "plt.xlabel('Epoch')\n",
        "plt.legend(['Training', 'Validation'], loc='upper right')\n",
        "plt.show() "
      ],
      "execution_count": 0,
      "outputs": []
    },
    {
      "cell_type": "markdown",
      "metadata": {
        "id": "Bg7TjhSmBMKE",
        "colab_type": "text"
      },
      "source": [
        "Do you see an improvement in the overfitting? This will of course vary based on your particular run and whether you have altered the hyperparameters."
      ]
    },
    {
      "cell_type": "markdown",
      "metadata": {
        "id": "VslIgflHBMKG",
        "colab_type": "text"
      },
      "source": [
        "#### Get predictions using the trained model"
      ]
    },
    {
      "cell_type": "code",
      "metadata": {
        "id": "YbYUtGqcBMKG",
        "colab_type": "code",
        "colab": {}
      },
      "source": [
        "# Get model predictions for the first 3 batches of test data\n",
        "\n",
        "num_batches = 3\n",
        "seed = 25\n",
        "test_generator = get_generator(image_gen_aug, test_dir, seed=seed)\n",
        "predictions = lsun_new_model.predict_generator(test_generator, steps=num_batches)"
      ],
      "execution_count": 0,
      "outputs": []
    },
    {
      "cell_type": "code",
      "metadata": {
        "id": "0kgyj1YhBMKK",
        "colab_type": "code",
        "colab": {}
      },
      "source": [
        "# Run this cell to view randomly selected images and model predictions\n",
        "\n",
        "# Get images and ground truth labels\n",
        "test_generator = get_generator(image_gen_aug, test_dir, seed=seed)\n",
        "batches = []\n",
        "for i in range(num_batches):\n",
        "    batches.append(next(test_generator))\n",
        "    \n",
        "batch_images = np.vstack([b[0] for b in batches])\n",
        "batch_labels = np.concatenate([b[1].astype(np.int32) for b in batches])\n",
        "\n",
        "# Randomly select images from the batch\n",
        "inx = np.random.choice(predictions.shape[0], 4, replace=False)\n",
        "print(inx)\n",
        "\n",
        "fig, axes = plt.subplots(4, 2, figsize=(16, 12))\n",
        "fig.subplots_adjust(hspace=0.4, wspace=-0.2)\n",
        "\n",
        "for n, i in enumerate(inx):\n",
        "    axes[n, 0].imshow(batch_images[i])\n",
        "    axes[n, 0].get_xaxis().set_visible(False)\n",
        "    axes[n, 0].get_yaxis().set_visible(False)\n",
        "    axes[n, 0].text(30., -3.5, lsun_classes[np.where(batch_labels[i] == 1.)[0][0]], \n",
        "                    horizontalalignment='center')\n",
        "    axes[n, 1].bar(np.arange(len(predictions[i])), predictions[i])\n",
        "    axes[n, 1].set_xticks(np.arange(len(predictions[i])))\n",
        "    axes[n, 1].set_xticklabels(lsun_classes)\n",
        "    axes[n, 1].set_title(f\"Categorical distribution. Model prediction: {lsun_classes[np.argmax(predictions[i])]}\")\n",
        "    \n",
        "plt.show()"
      ],
      "execution_count": 0,
      "outputs": []
    },
    {
      "cell_type": "markdown",
      "metadata": {
        "id": "0FCQJLKVBMKN",
        "colab_type": "text"
      },
      "source": [
        "Congratulations! This completes the first part of the programming assignment using the tf.keras image data processing tools."
      ]
    },
    {
      "cell_type": "markdown",
      "metadata": {
        "id": "esnqaHexBMKO",
        "colab_type": "text"
      },
      "source": [
        "### Part 2: tf.data\n",
        "\n",
        "#### The CIFAR-100 Dataset"
      ]
    },
    {
      "cell_type": "markdown",
      "metadata": {
        "id": "VrzLWWelBMKO",
        "colab_type": "text"
      },
      "source": [
        "In the second part of this assignment, you will use the [CIFAR-100 dataset](https://www.cs.toronto.edu/~kriz/cifar.html). This image dataset has 100 classes with 500 training images and 100 test images per class. \n",
        "\n",
        "* A. Krizhevsky. \"Learning Multiple Layers of Features from Tiny Images\". April 2009 \n",
        "\n",
        "Your goal is to use the tf.data module preprocessing tools to construct a data ingestion pipeline including filtering and function mapping over the dataset to train a neural network to classify the images."
      ]
    },
    {
      "cell_type": "markdown",
      "metadata": {
        "id": "u84tPRQZBMKP",
        "colab_type": "text"
      },
      "source": [
        "#### Load the dataset"
      ]
    },
    {
      "cell_type": "code",
      "metadata": {
        "id": "0Haeb8IiBMKQ",
        "colab_type": "code",
        "colab": {}
      },
      "source": [
        "# Load the data, along with the labels\n",
        "\n",
        "(train_data, train_labels), (test_data, test_labels) = cifar100.load_data(label_mode='fine')\n",
        "with open('data/cifar100/cifar100_labels.json', 'r') as j:\n",
        "    cifar_labels = json.load(j)"
      ],
      "execution_count": 0,
      "outputs": []
    },
    {
      "cell_type": "markdown",
      "metadata": {
        "id": "ed4HUm8yBMKS",
        "colab_type": "text"
      },
      "source": [
        "#### Display sample images and labels from the training set"
      ]
    },
    {
      "cell_type": "code",
      "metadata": {
        "scrolled": false,
        "id": "W4AudzgMBMKT",
        "colab_type": "code",
        "colab": {}
      },
      "source": [
        "# Display a few images and labels\n",
        "\n",
        "plt.figure(figsize=(15,8))\n",
        "inx = np.random.choice(train_data.shape[0], 32, replace=False)\n",
        "for n, i in enumerate(inx):\n",
        "    ax = plt.subplot(4, 8, n+1)\n",
        "    plt.imshow(train_data[i])\n",
        "    plt.title(cifar_labels[int(train_labels[i])])\n",
        "    plt.axis('off')"
      ],
      "execution_count": 0,
      "outputs": []
    },
    {
      "cell_type": "markdown",
      "metadata": {
        "id": "SbWL6x5QBMKV",
        "colab_type": "text"
      },
      "source": [
        "#### Create Dataset objects for the train and test images\n",
        "\n",
        "You should now write a function to create a `tf.data.Dataset` object for each of the training and test images and labels. This function should take a numpy array of images in the first argument and a numpy array of labels in the second argument, and create a `Dataset` object. \n",
        "\n",
        "Your function should then batch the data with a batch size of 16, dropping the last batch in the dataset if it has size less than 16. It should then return the batched `Dataset` object."
      ]
    },
    {
      "cell_type": "code",
      "metadata": {
        "id": "_a4cWDgqBMKW",
        "colab_type": "code",
        "colab": {}
      },
      "source": [
        "#### GRADED CELL ####\n",
        "\n",
        "# Complete the following function. \n",
        "# Make sure to not change the function name or arguments.\n",
        "\n",
        "def create_dataset(data, labels):\n",
        "    \"\"\"\n",
        "    This function takes a numpy array batch of images in the first argument, and\n",
        "    a corresponding array containing the labels in the second argument.\n",
        "    The function should then batch the dataset with a batch size of 16, dropping the\n",
        "    remainder if 16 does not divide the number of elements in the dataset. \n",
        "    The function should return the tf.data.Dataset object.\n",
        "    \"\"\"\n",
        "    \n",
        "    "
      ],
      "execution_count": 0,
      "outputs": []
    },
    {
      "cell_type": "code",
      "metadata": {
        "id": "N-TMdmSnBMKZ",
        "colab_type": "code",
        "colab": {}
      },
      "source": [
        "# Run the below cell to convert the training and test data and labels into datasets\n",
        "\n",
        "train_dataset = create_dataset(train_data, train_labels)\n",
        "test_dataset = create_dataset(test_data, test_labels)"
      ],
      "execution_count": 0,
      "outputs": []
    },
    {
      "cell_type": "code",
      "metadata": {
        "id": "BDA9u-swBMKb",
        "colab_type": "code",
        "colab": {}
      },
      "source": [
        "# Check the element_spec of your datasets\n",
        "\n",
        "print(train_dataset.element_spec)\n",
        "print(test_dataset.element_spec)"
      ],
      "execution_count": 0,
      "outputs": []
    },
    {
      "cell_type": "markdown",
      "metadata": {
        "id": "r0sDKPmBBMKd",
        "colab_type": "text"
      },
      "source": [
        "#### Filter the Dataset\n",
        "\n",
        "Write a function to filter the train and test datasets so that they only generate images that belong to a specified set of classes. \n",
        "\n",
        "The function should take a `Dataset` object in the first argument, and a list of integer class indices in the second argument. Inside your function you should define an auxiliary function that you will use with the `filter` method of the `Dataset` object. This auxiliary function should take image and label arguments (as in the `element_spec`) for a single element in the batch, and return a boolean indicating if the label is one of the allowed classes. \n",
        "\n",
        "Your function should then return the filtered dataset.\n",
        "\n",
        "**Hint:** you may need to use the [`tf.equal`](https://www.tensorflow.org/api_docs/python/tf/math/equal), [`tf.cast`](https://www.tensorflow.org/api_docs/python/tf/dtypes/cast) and [`tf.math.reduce_any`](https://www.tensorflow.org/api_docs/python/tf/math/reduce_any) functions in your auxiliary function. "
      ]
    },
    {
      "cell_type": "code",
      "metadata": {
        "id": "XMfQUG_KBMKe",
        "colab_type": "code",
        "colab": {}
      },
      "source": [
        "#### GRADED CELL ####\n",
        "\n",
        "# Complete the following function. \n",
        "# Make sure to not change the function name or arguments.\n",
        "\n",
        "def filter_classes(dataset, classes):\n",
        "    \"\"\"\n",
        "    This function should filter the dataset by only retaining dataset elements whose\n",
        "    label belongs to one of the integers in the classes list.\n",
        "    The function should then return the filtered Dataset object.\n",
        "    \"\"\"\n",
        "    \n",
        "    "
      ],
      "execution_count": 0,
      "outputs": []
    },
    {
      "cell_type": "code",
      "metadata": {
        "id": "p8yhnTf3BMKf",
        "colab_type": "code",
        "colab": {}
      },
      "source": [
        "# Run the below cell to filter the datasets using your function\n",
        "\n",
        "cifar_classes = [0, 29, 99] # Your datasets should contain only classes in this list\n",
        "\n",
        "train_dataset = filter_classes(train_dataset, cifar_classes)\n",
        "test_dataset = filter_classes(test_dataset, cifar_classes)"
      ],
      "execution_count": 0,
      "outputs": []
    },
    {
      "cell_type": "markdown",
      "metadata": {
        "id": "iTmu5KUrBMKh",
        "colab_type": "text"
      },
      "source": [
        "#### Apply map functions to the Dataset\n",
        "\n",
        "You should now write two functions that use the `map` method to process the images and labels in the filtered dataset. \n",
        "\n",
        "The first function should one-hot encode the remaining labels so that we can train the network using a categorical cross entropy loss. \n",
        "\n",
        "The function should take a `Dataset` object as an argument. Inside your function you should define an auxiliary function that you will use with the `map` method of the `Dataset` object. This auxiliary function should take image and label arguments (as in the `element_spec`) for a single element in the batch, and return a tuple of two elements, with the unmodified image in the first element, and a one-hot vector in the second element. The labels should be encoded according to the following:\n",
        "\n",
        "* Class 0 maps to `[1., 0., 0.]`\n",
        "* Class 29 maps to `[0., 1., 0.]`\n",
        "* Class 99 maps to `[0., 0., 1.]`\n",
        "\n",
        "Your function should then return the mapped dataset."
      ]
    },
    {
      "cell_type": "code",
      "metadata": {
        "id": "i6EVXPsEBMKk",
        "colab_type": "code",
        "colab": {}
      },
      "source": [
        "#### GRADED CELL ####\n",
        "\n",
        "# Complete the following function. \n",
        "# Make sure to not change the function name or arguments.\n",
        "\n",
        "def map_labels(dataset):\n",
        "    \"\"\"\n",
        "    This function should map over the dataset to convert the label to a \n",
        "    one-hot vector. The encoding should be done according to the above specification.\n",
        "    The function should then return the mapped Dataset object.\n",
        "    \"\"\"\n",
        "    \n",
        "    "
      ],
      "execution_count": 0,
      "outputs": []
    },
    {
      "cell_type": "code",
      "metadata": {
        "id": "OknRjGxEBMKm",
        "colab_type": "code",
        "colab": {}
      },
      "source": [
        "# Run the below cell to one-hot encode the training and test labels.\n",
        "\n",
        "train_dataset = map_labels(train_dataset)\n",
        "test_dataset = map_labels(test_dataset)"
      ],
      "execution_count": 0,
      "outputs": []
    },
    {
      "cell_type": "markdown",
      "metadata": {
        "id": "EmCW-mvwBMKr",
        "colab_type": "text"
      },
      "source": [
        "The second function should process the images according to the following specification:\n",
        "\n",
        "* Rescale the image pixel values by a factor of 1/255.\n",
        "* Convert the colour images (3 channels) to black and white images (single channel) by computing the average pixel value across all channels. \n",
        "\n",
        "The function should take a `Dataset` object as an argument. Inside your function you should again define an auxiliary function that you will use with the `map` method of the `Dataset` object. This auxiliary function should take image and label arguments (as in the `element_spec`) for a single element in the batch, and return a tuple of two elements, with the processed image in the first element, and the unmodified label in the second argument.\n",
        "\n",
        "Your function should then return the mapped dataset.\n",
        "\n",
        "**Hint:** you may find it useful to use [`tf.reduce_mean`](https://www.tensorflow.org/api_docs/python/tf/math/reduce_mean?version=stable) since the black and white image is the colour-average of the colour images. You can also use the `keepdims` keyword in `tf.reduce_mean` to retain the single colour channel."
      ]
    },
    {
      "cell_type": "code",
      "metadata": {
        "id": "ZXymTd0JBMKr",
        "colab_type": "code",
        "colab": {}
      },
      "source": [
        "#### GRADED CELL ####\n",
        "\n",
        "# Complete the following function. \n",
        "# Make sure to not change the function name or arguments.\n",
        "\n",
        "def map_images(dataset):\n",
        "    \"\"\"\n",
        "    This function should map over the dataset to process the image according to the \n",
        "    above specification. The function should then return the mapped Dataset object.\n",
        "    \"\"\"\n",
        "    \n",
        "    "
      ],
      "execution_count": 0,
      "outputs": []
    },
    {
      "cell_type": "code",
      "metadata": {
        "id": "FignlTJ6BMKu",
        "colab_type": "code",
        "colab": {}
      },
      "source": [
        "# Run the below cell to apply your mapping function to the datasets\n",
        "\n",
        "train_dataset_bw = map_images(train_dataset)\n",
        "test_dataset_bw = map_images(test_dataset)"
      ],
      "execution_count": 0,
      "outputs": []
    },
    {
      "cell_type": "markdown",
      "metadata": {
        "id": "oBww4JcSBMKx",
        "colab_type": "text"
      },
      "source": [
        "#### Display a batch of processed images"
      ]
    },
    {
      "cell_type": "code",
      "metadata": {
        "id": "_DLzoSBLBMKx",
        "colab_type": "code",
        "colab": {}
      },
      "source": [
        "# Run this cell to view a selection of images before and after processing\n",
        "\n",
        "plt.figure(figsize=(16,5))\n",
        "plt.suptitle(\"Unprocessed images\", fontsize=16)\n",
        "for n, elem in enumerate(train_dataset.take(10)):\n",
        "    images, labels = elem\n",
        "    ax = plt.subplot(2, 5, n+1)\n",
        "    plt.title(cifar_labels[cifar_classes[np.where(labels == 1.)[0][0]]])\n",
        "    plt.imshow(np.squeeze(images), cmap='gray')\n",
        "    plt.axis('off')\n",
        "    \n",
        "plt.figure(figsize=(16,5))\n",
        "plt.suptitle(\"Processed images\", fontsize=16)\n",
        "for n, elem in enumerate(train_dataset_bw.take(10)):\n",
        "    images_bw, labels_bw = elem\n",
        "    ax = plt.subplot(2, 5, n+1)\n",
        "    plt.title(cifar_labels[cifar_classes[np.where(labels_bw == 1.)[0][0]]])\n",
        "    plt.imshow(np.squeeze(images_bw), cmap='gray')\n",
        "    plt.axis('off')"
      ],
      "execution_count": 0,
      "outputs": []
    },
    {
      "cell_type": "markdown",
      "metadata": {
        "id": "U1LuicSoBMK1",
        "colab_type": "text"
      },
      "source": [
        "We will now batch and shuffle the Dataset objects."
      ]
    },
    {
      "cell_type": "code",
      "metadata": {
        "id": "l2VaAcyrBMK2",
        "colab_type": "code",
        "colab": {}
      },
      "source": [
        "# Run the below cell to batch the training dataset and expand the final dimensinos\n",
        "\n",
        "train_dataset_bw = train_dataset_bw.batch(10)\n",
        "train_dataset_bw = train_dataset_bw.shuffle(100)\n",
        "\n",
        "test_dataset_bw = test_dataset_bw.batch(10)\n",
        "test_dataset_bw = test_dataset_bw.shuffle(100)"
      ],
      "execution_count": 0,
      "outputs": []
    },
    {
      "cell_type": "markdown",
      "metadata": {
        "id": "g0uH25GHBMK4",
        "colab_type": "text"
      },
      "source": [
        "#### Train a neural network model\n",
        "\n",
        "Now we will train a model using the `Dataset` objects. We will use the model specification and function from the first part of this assignment, only modifying the size of the input images."
      ]
    },
    {
      "cell_type": "code",
      "metadata": {
        "id": "LCmCr_BKBMK5",
        "colab_type": "code",
        "colab": {}
      },
      "source": [
        "# Build and compile a new model with our original spec, using the new image size\n",
        "    \n",
        "cifar_model = get_model((32, 32, 1))"
      ],
      "execution_count": 0,
      "outputs": []
    },
    {
      "cell_type": "code",
      "metadata": {
        "scrolled": true,
        "id": "IxWDuOKNBMK8",
        "colab_type": "code",
        "colab": {}
      },
      "source": [
        "# Train the model for 15 epochs\n",
        "\n",
        "history = cifar_model.fit(train_dataset_bw, validation_data=test_dataset_bw, epochs=15)"
      ],
      "execution_count": 0,
      "outputs": []
    },
    {
      "cell_type": "markdown",
      "metadata": {
        "id": "5FKOzHhiBMLA",
        "colab_type": "text"
      },
      "source": [
        "#### Plot the learning curves"
      ]
    },
    {
      "cell_type": "code",
      "metadata": {
        "id": "MYltgIw9BMLA",
        "colab_type": "code",
        "colab": {}
      },
      "source": [
        "# Run this cell to plot accuracy vs epoch and loss vs epoch\n",
        "\n",
        "plt.figure(figsize=(15,5))\n",
        "plt.subplot(121)\n",
        "try:\n",
        "    plt.plot(history.history['accuracy'])\n",
        "    plt.plot(history.history['val_accuracy'])\n",
        "except KeyError:\n",
        "    plt.plot(history.history['acc'])\n",
        "    plt.plot(history.history['val_acc'])\n",
        "plt.title('Accuracy vs. epochs')\n",
        "plt.ylabel('Accuracy')\n",
        "plt.xlabel('Epoch')\n",
        "plt.legend(['Training', 'Validation'], loc='lower right')\n",
        "\n",
        "plt.subplot(122)\n",
        "plt.plot(history.history['loss'])\n",
        "plt.plot(history.history['val_loss'])\n",
        "plt.title('Loss vs. epochs')\n",
        "plt.ylabel('Loss')\n",
        "plt.xlabel('Epoch')\n",
        "plt.legend(['Training', 'Validation'], loc='upper right')\n",
        "plt.show() "
      ],
      "execution_count": 0,
      "outputs": []
    },
    {
      "cell_type": "code",
      "metadata": {
        "id": "dHxgaS60BMLC",
        "colab_type": "code",
        "colab": {}
      },
      "source": [
        "# Create an iterable from the batched test dataset\n",
        "\n",
        "test_dataset = test_dataset.batch(10)\n",
        "iter_test_dataset = iter(test_dataset)"
      ],
      "execution_count": 0,
      "outputs": []
    },
    {
      "cell_type": "code",
      "metadata": {
        "id": "jwfJwXtIBMLF",
        "colab_type": "code",
        "colab": {}
      },
      "source": [
        "# Display model predictions for a sample of test images\n",
        "\n",
        "plt.figure(figsize=(15,8))\n",
        "inx = np.random.choice(test_data.shape[0], 18, replace=False)\n",
        "images, labels = next(iter_test_dataset)\n",
        "probs = cifar_model(tf.reduce_mean(tf.cast(images, tf.float32), axis=-1, keepdims=True) / 255.)\n",
        "preds = np.argmax(probs, axis=1)\n",
        "for n in range(10):\n",
        "    ax = plt.subplot(2, 5, n+1)\n",
        "    plt.imshow(images[n])\n",
        "    plt.title(cifar_labels[cifar_classes[np.where(labels[n].numpy() == 1.0)[0][0]]])\n",
        "    plt.text(0, 35, \"Model prediction: {}\".format(cifar_labels[cifar_classes[preds[n]]]))\n",
        "    plt.axis('off')"
      ],
      "execution_count": 0,
      "outputs": []
    },
    {
      "cell_type": "markdown",
      "metadata": {
        "id": "loxqOaFmBMLI",
        "colab_type": "text"
      },
      "source": [
        "Congratulations for completing this programming assignment! In the next week of the course we will learn to develop models for sequential data."
      ]
    }
  ]
}