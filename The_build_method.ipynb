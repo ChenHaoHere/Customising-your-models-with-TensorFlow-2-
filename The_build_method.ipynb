{
  "nbformat": 4,
  "nbformat_minor": 0,
  "metadata": {
    "kernelspec": {
      "display_name": "Python 3",
      "language": "python",
      "name": "python3"
    },
    "language_info": {
      "codemirror_mode": {
        "name": "ipython",
        "version": 3
      },
      "file_extension": ".py",
      "mimetype": "text/x-python",
      "name": "python",
      "nbconvert_exporter": "python",
      "pygments_lexer": "ipython3",
      "version": "3.7.1"
    },
    "colab": {
      "name": "The build method.ipynb",
      "provenance": [],
      "include_colab_link": true
    }
  },
  "cells": [
    {
      "cell_type": "markdown",
      "metadata": {
        "id": "view-in-github",
        "colab_type": "text"
      },
      "source": [
        "<a href=\"https://colab.research.google.com/github/ChenHaoHere/Customising-your-models-with-TensorFlow-2-/blob/master/The_build_method.ipynb\" target=\"_parent\"><img src=\"https://colab.research.google.com/assets/colab-badge.svg\" alt=\"Open In Colab\"/></a>"
      ]
    },
    {
      "cell_type": "markdown",
      "metadata": {
        "id": "9_istbjgbWYP",
        "colab_type": "text"
      },
      "source": [
        "# Flexible input shapes for custom layers\n",
        "In this reading you will learn how to use the build method to allow custom layers to work with flexible sized inputs."
      ]
    },
    {
      "cell_type": "code",
      "metadata": {
        "id": "O5yaWXCLbWYQ",
        "colab_type": "code",
        "colab": {}
      },
      "source": [
        "import tensorflow as tf\n",
        "print(tf.__version__)"
      ],
      "execution_count": 0,
      "outputs": []
    },
    {
      "cell_type": "markdown",
      "metadata": {
        "id": "dzQ1WxMobWYT",
        "colab_type": "text"
      },
      "source": [
        "## Fix the input shape in the custom layer"
      ]
    },
    {
      "cell_type": "markdown",
      "metadata": {
        "id": "D4TQO7CObWYT",
        "colab_type": "text"
      },
      "source": [
        "Previously, you have created custom layers by initialising all variables in the `__init__` method. For instance, you defined a dense layer called `MyLayer` as follows:"
      ]
    },
    {
      "cell_type": "code",
      "metadata": {
        "id": "t8wjrgeFbWYU",
        "colab_type": "code",
        "colab": {}
      },
      "source": [
        "# Create a custom layer\n",
        "\n",
        "from tensorflow.keras.layers import Layer\n",
        "\n",
        "class MyLayer(Layer):\n",
        "\n",
        "    def __init__(self, units, input_dim, **kwargs):\n",
        "        super(MyLayer, self).__init__(**kwargs)\n",
        "        self.w = self.add_weight(shape=(input_dim, units),\n",
        "                             initializer='random_normal')\n",
        "        self.b = self.add_weight(shape=(units,),\n",
        "                             initializer='zeros')\n",
        "        \n",
        "    def call(self, inputs):\n",
        "        return tf.matmul(inputs, self.w)+self.b"
      ],
      "execution_count": 0,
      "outputs": []
    },
    {
      "cell_type": "markdown",
      "metadata": {
        "id": "BosDyOdGbWYW",
        "colab_type": "text"
      },
      "source": [
        "Notice that the required arguments for the `__init__` method are the number of units in the dense layer (`units`) and the input size (`input_dim`). This means that you need to fix these two arguments when you instantiate the layer."
      ]
    },
    {
      "cell_type": "code",
      "metadata": {
        "id": "TJ1r6kCNbWYW",
        "colab_type": "code",
        "colab": {}
      },
      "source": [
        "#  Create a custom layer with 3 units and input dimension of 5\n",
        "\n",
        "dense_layer = MyLayer(3, 5) "
      ],
      "execution_count": 0,
      "outputs": []
    },
    {
      "cell_type": "markdown",
      "metadata": {
        "id": "b791r5JhbWYY",
        "colab_type": "text"
      },
      "source": [
        "Since the input size has been fixed to be 5, this custom layer can only take inputs of that size. For example, we can call the layer as follows:"
      ]
    },
    {
      "cell_type": "code",
      "metadata": {
        "id": "fxg4mJ-_bWYZ",
        "colab_type": "code",
        "colab": {}
      },
      "source": [
        "# Call the custom layer on a Tensor input of ones\n",
        "\n",
        "x = tf.ones((1,5))\n",
        "print(dense_layer(x))"
      ],
      "execution_count": 0,
      "outputs": []
    },
    {
      "cell_type": "markdown",
      "metadata": {
        "id": "HbNM3bjjbWYb",
        "colab_type": "text"
      },
      "source": [
        "However, forcing the input shape (and therefore the shape of the weights) to be fixed when the layer is instantiated is unnecessary, and it may be more convenient to only do this later on, after the model has been defined. \n",
        "\n",
        "For example, in some cases you may not know the input shape at the model building time. We have come across this concept before when building models with the Sequential API. If the `input_shape` argument is omitted, the weights will only be created when an input is passed into the model."
      ]
    },
    {
      "cell_type": "markdown",
      "metadata": {
        "id": "OjeV60NNbWYb",
        "colab_type": "text"
      },
      "source": [
        "## Allow a flexible input shape in the custom layer"
      ]
    },
    {
      "cell_type": "markdown",
      "metadata": {
        "id": "GQr_O3D5bWYc",
        "colab_type": "text"
      },
      "source": [
        "You can delay the weight creation by using the `build` method to define the weights. The `build` method is executed when the `__call__` method is called, meaning the weights are only created only the layer is called with a specific input.\n",
        "\n",
        "The `build` method has a required argument `input_shape`, which can be used to define the shapes of the layer weights."
      ]
    },
    {
      "cell_type": "code",
      "metadata": {
        "id": "I0bbDrHYbWYc",
        "colab_type": "code",
        "colab": {}
      },
      "source": [
        "# Rewrite the custom layer with lazy weight creation\n",
        "\n",
        "class MyLayer(Layer):\n",
        "\n",
        "    def __init__(self, units, **kwargs):\n",
        "        super(MyLayer, self).__init__(**kwargs)\n",
        "        self.units = units\n",
        "    \n",
        "    def build(self, input_shape):\n",
        "        self.w = self.add_weight(shape=(input_shape[-1], self.units),\n",
        "                                 initializer='random_normal')\n",
        "        self.b = self.add_weight(shape=(self.units,),\n",
        "                                 initializer='zeros')\n",
        "    def call(self, inputs):\n",
        "        return tf.matmul(inputs, self.w)+self.b"
      ],
      "execution_count": 0,
      "outputs": []
    },
    {
      "cell_type": "markdown",
      "metadata": {
        "id": "zAiSZNzhbWYe",
        "colab_type": "text"
      },
      "source": [
        "Now, when you instantiate the layer, you only need to specify the number of units in the dense layer (`units`), and not the input size (`input_dim`)."
      ]
    },
    {
      "cell_type": "markdown",
      "metadata": {
        "id": "PZIAE-_0bWYf",
        "colab_type": "text"
      },
      "source": [
        "### Create a custom layer with flexible input size"
      ]
    },
    {
      "cell_type": "code",
      "metadata": {
        "id": "wtEUvZAbbWYf",
        "colab_type": "code",
        "colab": {}
      },
      "source": [
        "#  Create a custom layer with 3 units\n",
        "\n",
        "dense_layer = MyLayer(3) "
      ],
      "execution_count": 0,
      "outputs": []
    },
    {
      "cell_type": "markdown",
      "metadata": {
        "id": "r_aOBlVxbWYh",
        "colab_type": "text"
      },
      "source": [
        "This layer can now be called on an input of any size, at which point the layer weights will be created and the input size will be fixed."
      ]
    },
    {
      "cell_type": "code",
      "metadata": {
        "id": "fBMIUT00bWYi",
        "colab_type": "code",
        "colab": {}
      },
      "source": [
        "# Call the custom layer on a Tensor input of ones of size 5\n",
        "\n",
        "x = tf.ones((1,5))\n",
        "print(dense_layer(x))"
      ],
      "execution_count": 0,
      "outputs": []
    },
    {
      "cell_type": "code",
      "metadata": {
        "id": "Cjjf3UOUbWYk",
        "colab_type": "code",
        "colab": {}
      },
      "source": [
        "# Print the layer weights\n",
        "\n",
        "dense_layer.weights"
      ],
      "execution_count": 0,
      "outputs": []
    },
    {
      "cell_type": "markdown",
      "metadata": {
        "id": "ldT0rfVybWYl",
        "colab_type": "text"
      },
      "source": [
        "### Create a new custom layer and pass in a different sized input"
      ]
    },
    {
      "cell_type": "code",
      "metadata": {
        "id": "u5Z-Id9YbWYm",
        "colab_type": "code",
        "colab": {}
      },
      "source": [
        "#  Create a new custom layer with 3 units\n",
        "\n",
        "dense_layer = MyLayer(3) "
      ],
      "execution_count": 0,
      "outputs": []
    },
    {
      "cell_type": "code",
      "metadata": {
        "id": "Z9I_Aq2NbWYo",
        "colab_type": "code",
        "colab": {}
      },
      "source": [
        "# Call the custom layer on a Tensor input of ones of size 4\n",
        "\n",
        "x = tf.ones((1,4))\n",
        "print(dense_layer(x))"
      ],
      "execution_count": 0,
      "outputs": []
    },
    {
      "cell_type": "code",
      "metadata": {
        "id": "-9mQH3L5bWYq",
        "colab_type": "code",
        "colab": {}
      },
      "source": [
        "# Print the layer weights\n",
        "\n",
        "dense_layer.weights"
      ],
      "execution_count": 0,
      "outputs": []
    },
    {
      "cell_type": "markdown",
      "metadata": {
        "id": "1RzP74pObWYs",
        "colab_type": "text"
      },
      "source": [
        "Note that the code for creating a custom layer object is identical, but the shape of the weights in the layer depend on the size of the input passed to the layer."
      ]
    },
    {
      "cell_type": "markdown",
      "metadata": {
        "id": "4-zCagKCbWYs",
        "colab_type": "text"
      },
      "source": [
        "## Flexible input shapes in models"
      ]
    },
    {
      "cell_type": "markdown",
      "metadata": {
        "id": "7KFilPcMbWYs",
        "colab_type": "text"
      },
      "source": [
        "Deferring the weight creation until the layer is called is also useful when using the custom layer as an intermediate layer inside a larger model. In this case you may want to create several custom layer objects in the model, and it is tedious to keep track of the input shape that each of the custom layers needs. \n",
        "\n",
        "By deferring the weight creation as above, the input shape can be inferred from the output of the previous layer."
      ]
    },
    {
      "cell_type": "code",
      "metadata": {
        "id": "BN94c6TCbWYt",
        "colab_type": "code",
        "colab": {}
      },
      "source": [
        "# Create a model using the custom layer\n",
        "\n",
        "from tensorflow.keras.models import Model\n",
        "from tensorflow.keras.layers import Softmax\n",
        "\n",
        "class MyModel(Model):\n",
        "\n",
        "    def __init__(self, units_1, units_2, **kwargs):\n",
        "        super(MyModel, self).__init__(**kwargs)\n",
        "        self.layer_1 = MyLayer(units_1)\n",
        "        self.layer_2 = MyLayer(units_2)\n",
        "\n",
        "    def call(self, inputs):\n",
        "        x = self.layer_1(inputs)\n",
        "        x = tf.nn.relu(x)\n",
        "        x = self.layer_2(x)\n",
        "        return Softmax()(x)"
      ],
      "execution_count": 0,
      "outputs": []
    },
    {
      "cell_type": "markdown",
      "metadata": {
        "id": "KY15ttTibWYv",
        "colab_type": "text"
      },
      "source": [
        "In the above model definition, the custom layer `MyLayer` is used twice. Notice that each instance of the custom layer object can have a different input size, depending on the arguments used to create the model and the inputs passed into the model"
      ]
    },
    {
      "cell_type": "code",
      "metadata": {
        "id": "b5hr8GUdbWYv",
        "colab_type": "code",
        "colab": {}
      },
      "source": [
        "# Create a custom model object\n",
        "\n",
        "model = MyModel(units_1=32, units_2=10)"
      ],
      "execution_count": 0,
      "outputs": []
    },
    {
      "cell_type": "markdown",
      "metadata": {
        "id": "Zo8N0rLzbWYx",
        "colab_type": "text"
      },
      "source": [
        "We can create and initialise all of the weights of the model by passing in an example Tensor input."
      ]
    },
    {
      "cell_type": "code",
      "metadata": {
        "id": "CIFQxWDPbWYx",
        "colab_type": "code",
        "colab": {}
      },
      "source": [
        "# Create and initialize all of the model weights\n",
        "\n",
        "_ = model(tf.ones((1, 100)))"
      ],
      "execution_count": 0,
      "outputs": []
    },
    {
      "cell_type": "code",
      "metadata": {
        "id": "D9lysAjcbWYz",
        "colab_type": "code",
        "colab": {}
      },
      "source": [
        "# Print the model summary\n",
        "\n",
        "model.summary()"
      ],
      "execution_count": 0,
      "outputs": []
    },
    {
      "cell_type": "markdown",
      "metadata": {
        "id": "bEx6lRI1bWY1",
        "colab_type": "text"
      },
      "source": [
        "## Further reading and resources \n",
        "* https://www.tensorflow.org/guide/keras/custom_layers_and_models#best_practice_deferring_weight_creation_until_the_shape_of_the_inputs_is_known"
      ]
    }
  ]
}